{
 "cells": [
  {
   "cell_type": "markdown",
   "id": "93f90e5b",
   "metadata": {},
   "source": [
    "# The Shapiro-Wilk -\n",
    "The test is a way to tell if a random sample comes from a normal distribution. The test gives you a W value; small values indicate your sample is not normally distributed (you can reject the null hypothesis that your population is normally distributed if your values are under a certain threshold).\n",
    "\n"
   ]
  },
  {
   "cell_type": "markdown",
   "id": "50212b14",
   "metadata": {},
   "source": [
    "# D'Agostino's K-squared test-\n",
    "The test is based on transformations of the sample kurtosis and skewness, and has power only against the alternatives that the distribution is skewed and/or kurtic.\n",
    "\n"
   ]
  },
  {
   "cell_type": "markdown",
   "id": "75554052",
   "metadata": {},
   "source": [
    "# The Anderson-Darling test-\n",
    "It is used to test if a sample of data came from a population with a specific distribution. It is a modification of the Kolmogorov-Smirnov (K-S) test and gives more weight to the tails than does the K-S test.The K-S test is distribution free in the sense that the critical values do not depend on the specific distribution being tested. The Anderson-Darling test makes use of the specific distribution in calculating critical values. This has the advantage of allowing a more sensitive test and the disadvantage that critical values must be calculated for each distribution."
   ]
  },
  {
   "cell_type": "code",
   "execution_count": 1,
   "id": "5ee42910",
   "metadata": {},
   "outputs": [],
   "source": [
    "import pandas as pd\n",
    "import numpy as np\n",
    "import matplotlib.pyplot as plt\n",
    "from scipy.stats import shapiro\n",
    "from scipy.stats import anderson\n",
    "from scipy.stats import normaltest\n",
    "from scipy.stats import rankdata\n",
    "from statsmodels.graphics.gofplots import qqplot"
   ]
  },
  {
   "cell_type": "code",
   "execution_count": 5,
   "id": "561adcdb",
   "metadata": {},
   "outputs": [
    {
     "name": "stdout",
     "output_type": "stream",
     "text": [
      "['CrayoDataset']\n",
      "    Number_of_Warts\n",
      "0                 5\n",
      "1                 5\n",
      "2                 1\n",
      "3                 7\n",
      "4                 1\n",
      "..              ...\n",
      "85                3\n",
      "86                6\n",
      "87                8\n",
      "88               10\n",
      "89                8\n",
      "\n",
      "[90 rows x 1 columns]\n",
      "\n",
      "\n",
      "----Normality test using Shapiro-Wilk Test-----\n",
      "Statistics=0.935, p=0.000\n",
      "Sample does not look Gaussian (reject H0)\n",
      "\n",
      "\n",
      "----Normality test using DAgostinos K2 Test-----\n",
      "Statistics=32.176, p=0.000\n",
      "Sample does not look Gaussian (reject H0)\n",
      "\n",
      "\n",
      "----Normality test using Anderson Darling Test-----\n",
      "Statistic: 1.581\n",
      "15.000: 0.553, data does not look normal (reject H0)\n",
      "10.000: 0.630, data does not look normal (reject H0)\n",
      "5.000: 0.756, data does not look normal (reject H0)\n",
      "2.500: 0.882, data does not look normal (reject H0)\n",
      "1.000: 1.049, data does not look normal (reject H0)\n"
     ]
    }
   ],
   "source": [
    "\n",
    "file = 'C:\\\\Users\\\\ibner\\\\Downloads\\\\Cryotherapy.xlsx' #Cryotherapy Dataset Data Set \n",
    "# Load spreadsheet\n",
    "xl = pd.ExcelFile(file)\n",
    "# Print the sheet names\n",
    "print(xl.sheet_names)\n",
    "# Load a sheet into a DataFrame by name: df1\n",
    "df1 = xl.parse('CrayoDataset')\n",
    "# Select columns from dataset\n",
    "r1=df1.iloc[:,[3]]\n",
    "print(r1)\n",
    "data1=rankdata(r1)\n",
    "stat, p = shapiro(data1)\n",
    "print('\\n\\n----Normality test using Shapiro-Wilk Test-----')\n",
    "print('Statistics=%.3f, p=%.3f' % (stat, p))\n",
    "# interpret\n",
    "alpha = 0.05\n",
    "if p > alpha:\n",
    "\tprint('Sample looks Gaussian (accept H0)\\n\\n')\n",
    "else:\n",
    "\tprint('Sample does not look Gaussian (reject H0)\\n\\n')\n",
    "    \n",
    "    ###################################\n",
    "stat, p = normaltest(data1)\n",
    "print('----Normality test using DAgostinos K2 Test-----')\n",
    "print('Statistics=%.3f, p=%.3f' % (stat, p))\n",
    "# interpret\n",
    "alpha = 0.05\n",
    "if p > alpha:\n",
    "\tprint('Sample looks Gaussian (accept H0)\\n\\n')\n",
    "else:\n",
    "\tprint('Sample does not look Gaussian (reject H0)\\n\\n')\n",
    " ###################################  \n",
    "result = anderson(data1)    \n",
    "print('----Normality test using Anderson Darling Test-----')\n",
    "print('Statistic: %.3f' % result.statistic)\n",
    "p = 0\n",
    "for i in range(len(result.critical_values)):\n",
    "\tsl, cv = result.significance_level[i], result.critical_values[i]\n",
    "\tif result.statistic < result.critical_values[i]:\n",
    "\t\tprint('%.3f: %.3f, data looks normal (accept H0)' % (sl, cv))\n",
    "\telse:\n",
    "\t\tprint('%.3f: %.3f, data does not look normal (reject H0)' % (sl, cv))"
   ]
  },
  {
   "cell_type": "code",
   "execution_count": null,
   "id": "882a2eff",
   "metadata": {},
   "outputs": [],
   "source": []
  }
 ],
 "metadata": {
  "kernelspec": {
   "display_name": "Python 3 (ipykernel)",
   "language": "python",
   "name": "python3"
  },
  "language_info": {
   "codemirror_mode": {
    "name": "ipython",
    "version": 3
   },
   "file_extension": ".py",
   "mimetype": "text/x-python",
   "name": "python",
   "nbconvert_exporter": "python",
   "pygments_lexer": "ipython3",
   "version": "3.9.7"
  }
 },
 "nbformat": 4,
 "nbformat_minor": 5
}
