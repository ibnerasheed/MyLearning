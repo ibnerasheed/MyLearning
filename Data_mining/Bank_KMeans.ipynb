{
 "cells": [
  {
   "cell_type": "markdown",
   "metadata": {},
   "source": [
    "# Bank dataset\n",
    "\n",
    "We have a transaction details of 515 banks which include number of DD taken, Withdrawals, Deposits, Area of the branch and Average Walk-Ins. Profile the banks into segments and come up with recommendations for each segment."
   ]
  },
  {
   "cell_type": "markdown",
   "metadata": {},
   "source": [
    "# Import libraries and load data"
   ]
  },
  {
   "cell_type": "code",
   "execution_count": 31,
   "metadata": {},
   "outputs": [],
   "source": [
    "import pandas as pd\n",
    "from sklearn.cluster import KMeans \n",
    "import seaborn as sns\n",
    "\n",
    "import matplotlib.pyplot as plt"
   ]
  },
  {
   "cell_type": "code",
   "execution_count": 2,
   "metadata": {},
   "outputs": [],
   "source": [
    "data_df = pd.read_csv(\"bank.csv\")"
   ]
  },
  {
   "cell_type": "markdown",
   "metadata": {},
   "source": [
    "# Checking the data"
   ]
  },
  {
   "cell_type": "code",
   "execution_count": 3,
   "metadata": {},
   "outputs": [
    {
     "data": {
      "text/html": [
       "<div>\n",
       "<style scoped>\n",
       "    .dataframe tbody tr th:only-of-type {\n",
       "        vertical-align: middle;\n",
       "    }\n",
       "\n",
       "    .dataframe tbody tr th {\n",
       "        vertical-align: top;\n",
       "    }\n",
       "\n",
       "    .dataframe thead th {\n",
       "        text-align: right;\n",
       "    }\n",
       "</style>\n",
       "<table border=\"1\" class=\"dataframe\">\n",
       "  <thead>\n",
       "    <tr style=\"text-align: right;\">\n",
       "      <th></th>\n",
       "      <th>Bank</th>\n",
       "      <th>DD</th>\n",
       "      <th>Withdrawals</th>\n",
       "      <th>Deposits</th>\n",
       "      <th>Branch Area in sqft</th>\n",
       "      <th>avg daily walkins</th>\n",
       "    </tr>\n",
       "  </thead>\n",
       "  <tbody>\n",
       "    <tr>\n",
       "      <th>0</th>\n",
       "      <td>1</td>\n",
       "      <td>227</td>\n",
       "      <td>147</td>\n",
       "      <td>111</td>\n",
       "      <td>2460</td>\n",
       "      <td>639</td>\n",
       "    </tr>\n",
       "    <tr>\n",
       "      <th>1</th>\n",
       "      <td>2</td>\n",
       "      <td>123</td>\n",
       "      <td>86</td>\n",
       "      <td>65</td>\n",
       "      <td>3510</td>\n",
       "      <td>436</td>\n",
       "    </tr>\n",
       "    <tr>\n",
       "      <th>2</th>\n",
       "      <td>3</td>\n",
       "      <td>306</td>\n",
       "      <td>149</td>\n",
       "      <td>76</td>\n",
       "      <td>2570</td>\n",
       "      <td>669</td>\n",
       "    </tr>\n",
       "    <tr>\n",
       "      <th>3</th>\n",
       "      <td>4</td>\n",
       "      <td>251</td>\n",
       "      <td>112</td>\n",
       "      <td>129</td>\n",
       "      <td>3650</td>\n",
       "      <td>623</td>\n",
       "    </tr>\n",
       "    <tr>\n",
       "      <th>4</th>\n",
       "      <td>5</td>\n",
       "      <td>174</td>\n",
       "      <td>135</td>\n",
       "      <td>128</td>\n",
       "      <td>3400</td>\n",
       "      <td>579</td>\n",
       "    </tr>\n",
       "  </tbody>\n",
       "</table>\n",
       "</div>"
      ],
      "text/plain": [
       "   Bank   DD  Withdrawals  Deposits  Branch Area in sqft  avg daily walkins\n",
       "0     1  227          147       111                 2460                639\n",
       "1     2  123           86        65                 3510                436\n",
       "2     3  306          149        76                 2570                669\n",
       "3     4  251          112       129                 3650                623\n",
       "4     5  174          135       128                 3400                579"
      ]
     },
     "execution_count": 3,
     "metadata": {},
     "output_type": "execute_result"
    }
   ],
   "source": [
    "data_df.head()"
   ]
  },
  {
   "cell_type": "code",
   "execution_count": 4,
   "metadata": {},
   "outputs": [
    {
     "data": {
      "text/plain": [
       "(515, 6)"
      ]
     },
     "execution_count": 4,
     "metadata": {},
     "output_type": "execute_result"
    }
   ],
   "source": [
    "data_df.shape"
   ]
  },
  {
   "cell_type": "code",
   "execution_count": 5,
   "metadata": {},
   "outputs": [
    {
     "name": "stdout",
     "output_type": "stream",
     "text": [
      "<class 'pandas.core.frame.DataFrame'>\n",
      "RangeIndex: 515 entries, 0 to 514\n",
      "Data columns (total 6 columns):\n",
      " #   Column               Non-Null Count  Dtype\n",
      "---  ------               --------------  -----\n",
      " 0   Bank                 515 non-null    int64\n",
      " 1   DD                   515 non-null    int64\n",
      " 2   Withdrawals          515 non-null    int64\n",
      " 3   Deposits             515 non-null    int64\n",
      " 4   Branch Area in sqft  515 non-null    int64\n",
      " 5   avg daily walkins    515 non-null    int64\n",
      "dtypes: int64(6)\n",
      "memory usage: 24.3 KB\n"
     ]
    }
   ],
   "source": [
    "data_df.info()"
   ]
  },
  {
   "cell_type": "markdown",
   "metadata": {},
   "source": [
    "# Checking Summary Statistic"
   ]
  },
  {
   "cell_type": "code",
   "execution_count": 8,
   "metadata": {},
   "outputs": [
    {
     "data": {
      "text/html": [
       "<div>\n",
       "<style scoped>\n",
       "    .dataframe tbody tr th:only-of-type {\n",
       "        vertical-align: middle;\n",
       "    }\n",
       "\n",
       "    .dataframe tbody tr th {\n",
       "        vertical-align: top;\n",
       "    }\n",
       "\n",
       "    .dataframe thead th {\n",
       "        text-align: right;\n",
       "    }\n",
       "</style>\n",
       "<table border=\"1\" class=\"dataframe\">\n",
       "  <thead>\n",
       "    <tr style=\"text-align: right;\">\n",
       "      <th></th>\n",
       "      <th>Bank</th>\n",
       "      <th>DD</th>\n",
       "      <th>Withdrawals</th>\n",
       "      <th>Deposits</th>\n",
       "      <th>Branch Area in sqft</th>\n",
       "      <th>avg daily walkins</th>\n",
       "    </tr>\n",
       "  </thead>\n",
       "  <tbody>\n",
       "    <tr>\n",
       "      <th>count</th>\n",
       "      <td>515.000000</td>\n",
       "      <td>515.000000</td>\n",
       "      <td>515.000000</td>\n",
       "      <td>515.000000</td>\n",
       "      <td>515.000000</td>\n",
       "      <td>515.000000</td>\n",
       "    </tr>\n",
       "    <tr>\n",
       "      <th>mean</th>\n",
       "      <td>258.000000</td>\n",
       "      <td>232.252427</td>\n",
       "      <td>150.693204</td>\n",
       "      <td>81.687379</td>\n",
       "      <td>2934.669903</td>\n",
       "      <td>598.603883</td>\n",
       "    </tr>\n",
       "    <tr>\n",
       "      <th>std</th>\n",
       "      <td>148.811962</td>\n",
       "      <td>66.648815</td>\n",
       "      <td>56.897777</td>\n",
       "      <td>28.596912</td>\n",
       "      <td>437.062831</td>\n",
       "      <td>83.487891</td>\n",
       "    </tr>\n",
       "    <tr>\n",
       "      <th>min</th>\n",
       "      <td>1.000000</td>\n",
       "      <td>120.000000</td>\n",
       "      <td>10.000000</td>\n",
       "      <td>33.000000</td>\n",
       "      <td>1200.000000</td>\n",
       "      <td>380.000000</td>\n",
       "    </tr>\n",
       "    <tr>\n",
       "      <th>25%</th>\n",
       "      <td>129.500000</td>\n",
       "      <td>169.500000</td>\n",
       "      <td>103.000000</td>\n",
       "      <td>58.000000</td>\n",
       "      <td>2675.000000</td>\n",
       "      <td>537.500000</td>\n",
       "    </tr>\n",
       "    <tr>\n",
       "      <th>50%</th>\n",
       "      <td>258.000000</td>\n",
       "      <td>237.000000</td>\n",
       "      <td>152.000000</td>\n",
       "      <td>80.000000</td>\n",
       "      <td>2960.000000</td>\n",
       "      <td>601.000000</td>\n",
       "    </tr>\n",
       "    <tr>\n",
       "      <th>75%</th>\n",
       "      <td>386.500000</td>\n",
       "      <td>291.000000</td>\n",
       "      <td>200.000000</td>\n",
       "      <td>105.000000</td>\n",
       "      <td>3300.000000</td>\n",
       "      <td>657.500000</td>\n",
       "    </tr>\n",
       "    <tr>\n",
       "      <th>max</th>\n",
       "      <td>515.000000</td>\n",
       "      <td>350.000000</td>\n",
       "      <td>247.000000</td>\n",
       "      <td>212.000000</td>\n",
       "      <td>3650.000000</td>\n",
       "      <td>838.000000</td>\n",
       "    </tr>\n",
       "  </tbody>\n",
       "</table>\n",
       "</div>"
      ],
      "text/plain": [
       "             Bank          DD  Withdrawals    Deposits  Branch Area in sqft  \\\n",
       "count  515.000000  515.000000   515.000000  515.000000           515.000000   \n",
       "mean   258.000000  232.252427   150.693204   81.687379          2934.669903   \n",
       "std    148.811962   66.648815    56.897777   28.596912           437.062831   \n",
       "min      1.000000  120.000000    10.000000   33.000000          1200.000000   \n",
       "25%    129.500000  169.500000   103.000000   58.000000          2675.000000   \n",
       "50%    258.000000  237.000000   152.000000   80.000000          2960.000000   \n",
       "75%    386.500000  291.000000   200.000000  105.000000          3300.000000   \n",
       "max    515.000000  350.000000   247.000000  212.000000          3650.000000   \n",
       "\n",
       "       avg daily walkins  \n",
       "count         515.000000  \n",
       "mean          598.603883  \n",
       "std            83.487891  \n",
       "min           380.000000  \n",
       "25%           537.500000  \n",
       "50%           601.000000  \n",
       "75%           657.500000  \n",
       "max           838.000000  "
      ]
     },
     "execution_count": 8,
     "metadata": {},
     "output_type": "execute_result"
    }
   ],
   "source": [
    "data_df.describe()"
   ]
  },
  {
   "cell_type": "markdown",
   "metadata": {},
   "source": [
    "# Checking for Duplicates"
   ]
  },
  {
   "cell_type": "code",
   "execution_count": 10,
   "metadata": {},
   "outputs": [
    {
     "data": {
      "text/plain": [
       "0"
      ]
     },
     "execution_count": 10,
     "metadata": {},
     "output_type": "execute_result"
    }
   ],
   "source": [
    "data_df.duplicated().sum()"
   ]
  },
  {
   "cell_type": "markdown",
   "metadata": {},
   "source": [
    "There are no Duplicates in the dataset"
   ]
  },
  {
   "cell_type": "markdown",
   "metadata": {},
   "source": [
    "# Scaling the data"
   ]
  },
  {
   "cell_type": "code",
   "execution_count": 12,
   "metadata": {},
   "outputs": [],
   "source": [
    "# importing the StandardScaler Module\n",
    "\n",
    "from sklearn.preprocessing import StandardScaler "
   ]
  },
  {
   "cell_type": "code",
   "execution_count": 13,
   "metadata": {},
   "outputs": [],
   "source": [
    "# Creating an object for the StandardScaler function\n",
    "\n",
    "X = StandardScaler ()"
   ]
  },
  {
   "cell_type": "code",
   "execution_count": 15,
   "metadata": {},
   "outputs": [],
   "source": [
    "scaled_df = pd.DataFrame(X.fit_transform(data_df.iloc[:,1:6]), columns = data_df.columns[1: ])"
   ]
  },
  {
   "cell_type": "code",
   "execution_count": 16,
   "metadata": {},
   "outputs": [
    {
     "data": {
      "text/html": [
       "<div>\n",
       "<style scoped>\n",
       "    .dataframe tbody tr th:only-of-type {\n",
       "        vertical-align: middle;\n",
       "    }\n",
       "\n",
       "    .dataframe tbody tr th {\n",
       "        vertical-align: top;\n",
       "    }\n",
       "\n",
       "    .dataframe thead th {\n",
       "        text-align: right;\n",
       "    }\n",
       "</style>\n",
       "<table border=\"1\" class=\"dataframe\">\n",
       "  <thead>\n",
       "    <tr style=\"text-align: right;\">\n",
       "      <th></th>\n",
       "      <th>DD</th>\n",
       "      <th>Withdrawals</th>\n",
       "      <th>Deposits</th>\n",
       "      <th>Branch Area in sqft</th>\n",
       "      <th>avg daily walkins</th>\n",
       "    </tr>\n",
       "  </thead>\n",
       "  <tbody>\n",
       "    <tr>\n",
       "      <th>0</th>\n",
       "      <td>-0.078884</td>\n",
       "      <td>-0.064973</td>\n",
       "      <td>1.026024</td>\n",
       "      <td>-1.087101</td>\n",
       "      <td>0.484326</td>\n",
       "    </tr>\n",
       "    <tr>\n",
       "      <th>1</th>\n",
       "      <td>-1.640819</td>\n",
       "      <td>-1.138113</td>\n",
       "      <td>-0.584105</td>\n",
       "      <td>1.317635</td>\n",
       "      <td>-1.949528</td>\n",
       "    </tr>\n",
       "    <tr>\n",
       "      <th>2</th>\n",
       "      <td>1.107586</td>\n",
       "      <td>-0.029788</td>\n",
       "      <td>-0.199074</td>\n",
       "      <td>-0.835176</td>\n",
       "      <td>0.844009</td>\n",
       "    </tr>\n",
       "    <tr>\n",
       "      <th>3</th>\n",
       "      <td>0.281562</td>\n",
       "      <td>-0.680709</td>\n",
       "      <td>1.656075</td>\n",
       "      <td>1.638267</td>\n",
       "      <td>0.292496</td>\n",
       "    </tr>\n",
       "    <tr>\n",
       "      <th>4</th>\n",
       "      <td>-0.874870</td>\n",
       "      <td>-0.276082</td>\n",
       "      <td>1.621072</td>\n",
       "      <td>1.065711</td>\n",
       "      <td>-0.235039</td>\n",
       "    </tr>\n",
       "    <tr>\n",
       "      <th>...</th>\n",
       "      <td>...</td>\n",
       "      <td>...</td>\n",
       "      <td>...</td>\n",
       "      <td>...</td>\n",
       "      <td>...</td>\n",
       "    </tr>\n",
       "    <tr>\n",
       "      <th>510</th>\n",
       "      <td>1.573163</td>\n",
       "      <td>-0.188120</td>\n",
       "      <td>1.026024</td>\n",
       "      <td>-0.674860</td>\n",
       "      <td>1.143745</td>\n",
       "    </tr>\n",
       "    <tr>\n",
       "      <th>511</th>\n",
       "      <td>-0.964982</td>\n",
       "      <td>-0.346452</td>\n",
       "      <td>-0.759119</td>\n",
       "      <td>-0.674860</td>\n",
       "      <td>-0.894458</td>\n",
       "    </tr>\n",
       "    <tr>\n",
       "      <th>512</th>\n",
       "      <td>1.513088</td>\n",
       "      <td>-1.138113</td>\n",
       "      <td>0.921016</td>\n",
       "      <td>-0.193913</td>\n",
       "      <td>0.927935</td>\n",
       "    </tr>\n",
       "    <tr>\n",
       "      <th>513</th>\n",
       "      <td>-0.604535</td>\n",
       "      <td>0.445209</td>\n",
       "      <td>-1.669192</td>\n",
       "      <td>-0.400033</td>\n",
       "      <td>-1.122257</td>\n",
       "    </tr>\n",
       "    <tr>\n",
       "      <th>514</th>\n",
       "      <td>1.483051</td>\n",
       "      <td>0.621134</td>\n",
       "      <td>0.535985</td>\n",
       "      <td>-0.537447</td>\n",
       "      <td>2.018974</td>\n",
       "    </tr>\n",
       "  </tbody>\n",
       "</table>\n",
       "<p>515 rows × 5 columns</p>\n",
       "</div>"
      ],
      "text/plain": [
       "           DD  Withdrawals  Deposits  Branch Area in sqft  avg daily walkins\n",
       "0   -0.078884    -0.064973  1.026024            -1.087101           0.484326\n",
       "1   -1.640819    -1.138113 -0.584105             1.317635          -1.949528\n",
       "2    1.107586    -0.029788 -0.199074            -0.835176           0.844009\n",
       "3    0.281562    -0.680709  1.656075             1.638267           0.292496\n",
       "4   -0.874870    -0.276082  1.621072             1.065711          -0.235039\n",
       "..        ...          ...       ...                  ...                ...\n",
       "510  1.573163    -0.188120  1.026024            -0.674860           1.143745\n",
       "511 -0.964982    -0.346452 -0.759119            -0.674860          -0.894458\n",
       "512  1.513088    -1.138113  0.921016            -0.193913           0.927935\n",
       "513 -0.604535     0.445209 -1.669192            -0.400033          -1.122257\n",
       "514  1.483051     0.621134  0.535985            -0.537447           2.018974\n",
       "\n",
       "[515 rows x 5 columns]"
      ]
     },
     "execution_count": 16,
     "metadata": {},
     "output_type": "execute_result"
    }
   ],
   "source": [
    "scaled_df"
   ]
  },
  {
   "cell_type": "markdown",
   "metadata": {},
   "source": [
    "# Creating Clusters using KMeans"
   ]
  },
  {
   "cell_type": "markdown",
   "metadata": {},
   "source": [
    "### Forming 2 Clusters with K=2"
   ]
  },
  {
   "cell_type": "code",
   "execution_count": 17,
   "metadata": {},
   "outputs": [],
   "source": [
    "# Create K Means cluster and store the result in the object k_means\n",
    "k_means = KMeans(n_clusters = 2, random_state = 1)\n"
   ]
  },
  {
   "cell_type": "code",
   "execution_count": 18,
   "metadata": {},
   "outputs": [
    {
     "data": {
      "text/plain": [
       "KMeans(n_clusters=2, random_state=1)"
      ]
     },
     "execution_count": 18,
     "metadata": {},
     "output_type": "execute_result"
    }
   ],
   "source": [
    "# Fit K means on the scaled_df\n",
    "\n",
    "k_means.fit(scaled_df)"
   ]
  },
  {
   "cell_type": "markdown",
   "metadata": {},
   "source": [
    "### Cluster Output for all the observations"
   ]
  },
  {
   "cell_type": "code",
   "execution_count": 19,
   "metadata": {},
   "outputs": [
    {
     "data": {
      "text/plain": [
       "array([0, 1, 0, 1, 1, 0, 1, 0, 0, 0, 0, 0, 0, 1, 0, 0, 1, 1, 1, 0, 1, 1,\n",
       "       0, 0, 1, 0, 1, 1, 1, 0, 0, 1, 1, 1, 0, 0, 1, 0, 0, 1, 1, 0, 0, 0,\n",
       "       0, 1, 0, 0, 0, 0, 1, 0, 0, 0, 1, 0, 1, 0, 0, 0, 0, 0, 0, 0, 1, 1,\n",
       "       1, 1, 1, 0, 1, 0, 1, 1, 0, 0, 0, 1, 1, 0, 0, 1, 1, 1, 0, 0, 0, 1,\n",
       "       1, 0, 0, 0, 0, 1, 1, 1, 1, 0, 1, 0, 0, 1, 0, 1, 0, 1, 0, 0, 0, 0,\n",
       "       1, 1, 0, 0, 1, 1, 1, 0, 0, 0, 0, 1, 0, 0, 1, 1, 0, 1, 1, 0, 1, 0,\n",
       "       0, 0, 0, 1, 1, 1, 0, 0, 0, 0, 1, 0, 0, 1, 0, 0, 0, 0, 1, 0, 0, 0,\n",
       "       1, 1, 0, 1, 0, 1, 0, 0, 0, 0, 0, 1, 1, 1, 0, 1, 1, 0, 0, 0, 1, 0,\n",
       "       1, 0, 0, 1, 1, 1, 1, 1, 1, 1, 0, 1, 1, 1, 1, 1, 1, 1, 0, 1, 1, 1,\n",
       "       0, 0, 1, 0, 1, 1, 0, 1, 1, 1, 0, 0, 1, 0, 0, 1, 1, 0, 0, 1, 1, 0,\n",
       "       0, 1, 0, 0, 0, 1, 0, 0, 0, 0, 0, 1, 0, 0, 1, 0, 1, 1, 0, 0, 0, 0,\n",
       "       0, 0, 0, 0, 0, 1, 0, 1, 1, 0, 1, 0, 1, 1, 1, 1, 0, 0, 0, 1, 1, 1,\n",
       "       1, 0, 1, 1, 0, 0, 0, 1, 0, 0, 0, 0, 1, 0, 0, 0, 0, 0, 0, 0, 1, 0,\n",
       "       0, 0, 0, 1, 0, 0, 1, 1, 1, 1, 0, 1, 0, 0, 0, 0, 0, 1, 0, 0, 0, 1,\n",
       "       0, 1, 0, 1, 1, 1, 0, 1, 1, 0, 0, 0, 0, 1, 0, 0, 0, 0, 0, 1, 1, 1,\n",
       "       0, 0, 0, 0, 0, 0, 0, 0, 1, 1, 1, 1, 0, 1, 1, 0, 1, 0, 1, 1, 1, 1,\n",
       "       1, 0, 1, 1, 1, 0, 1, 0, 0, 1, 0, 1, 0, 0, 0, 0, 1, 1, 1, 0, 1, 1,\n",
       "       1, 0, 1, 0, 0, 1, 1, 0, 0, 0, 0, 1, 0, 1, 0, 0, 1, 1, 1, 0, 0, 1,\n",
       "       1, 0, 0, 1, 1, 1, 0, 1, 1, 0, 1, 1, 1, 1, 0, 0, 0, 1, 1, 1, 0, 1,\n",
       "       1, 1, 0, 0, 0, 0, 1, 0, 0, 0, 1, 0, 1, 1, 0, 1, 1, 0, 1, 1, 1, 0,\n",
       "       1, 1, 1, 1, 0, 0, 0, 1, 1, 1, 0, 1, 0, 1, 1, 0, 1, 0, 0, 0, 1, 1,\n",
       "       0, 0, 0, 1, 0, 0, 1, 1, 0, 1, 0, 1, 1, 1, 1, 1, 1, 0, 0, 0, 0, 0,\n",
       "       0, 0, 1, 0, 1, 0, 1, 0, 1, 1, 1, 1, 0, 0, 1, 1, 1, 0, 1, 0, 0, 1,\n",
       "       1, 0, 0, 1, 0, 1, 0, 1, 0])"
      ]
     },
     "execution_count": 19,
     "metadata": {},
     "output_type": "execute_result"
    }
   ],
   "source": [
    "# Get the labels\n",
    "k_means.labels_"
   ]
  },
  {
   "cell_type": "markdown",
   "metadata": {},
   "source": [
    "### Within Cluster Sum of Squares"
   ]
  },
  {
   "cell_type": "code",
   "execution_count": 20,
   "metadata": {},
   "outputs": [
    {
     "data": {
      "text/plain": [
       "1943.3740862056477"
      ]
     },
     "execution_count": 20,
     "metadata": {},
     "output_type": "execute_result"
    }
   ],
   "source": [
    "k_means.inertia_"
   ]
  },
  {
   "cell_type": "markdown",
   "metadata": {},
   "source": [
    "### Forming clusters with K = 1,3,4,5,6 and comparing the WSS"
   ]
  },
  {
   "cell_type": "code",
   "execution_count": 21,
   "metadata": {},
   "outputs": [
    {
     "data": {
      "text/plain": [
       "2575.0"
      ]
     },
     "execution_count": 21,
     "metadata": {},
     "output_type": "execute_result"
    }
   ],
   "source": [
    "k_means = KMeans(n_clusters = 1,random_state=1)\n",
    "k_means.fit(scaled_df)\n",
    "k_means.inertia_"
   ]
  },
  {
   "cell_type": "code",
   "execution_count": 22,
   "metadata": {},
   "outputs": [
    {
     "data": {
      "text/plain": [
       "1593.9708577192214"
      ]
     },
     "execution_count": 22,
     "metadata": {},
     "output_type": "execute_result"
    }
   ],
   "source": [
    "k_means = KMeans(n_clusters = 3,random_state=1)\n",
    "k_means.fit(scaled_df)\n",
    "k_means.inertia_"
   ]
  },
  {
   "cell_type": "code",
   "execution_count": 23,
   "metadata": {},
   "outputs": [
    {
     "data": {
      "text/plain": [
       "1375.4932875022525"
      ]
     },
     "execution_count": 23,
     "metadata": {},
     "output_type": "execute_result"
    }
   ],
   "source": [
    "k_means = KMeans(n_clusters = 4,random_state=1)\n",
    "k_means.fit(scaled_df)\n",
    "k_means.inertia_"
   ]
  },
  {
   "cell_type": "code",
   "execution_count": 24,
   "metadata": {},
   "outputs": [
    {
     "data": {
      "text/plain": [
       "1220.2742967592992"
      ]
     },
     "execution_count": 24,
     "metadata": {},
     "output_type": "execute_result"
    }
   ],
   "source": [
    "k_means = KMeans(n_clusters = 5,random_state=1)\n",
    "k_means.fit(scaled_df)\n",
    "k_means.inertia_"
   ]
  },
  {
   "cell_type": "code",
   "execution_count": 25,
   "metadata": {},
   "outputs": [
    {
     "data": {
      "text/plain": [
       "1115.7438723951489"
      ]
     },
     "execution_count": 25,
     "metadata": {},
     "output_type": "execute_result"
    }
   ],
   "source": [
    "k_means = KMeans(n_clusters = 6,random_state=1)\n",
    "k_means.fit(scaled_df)\n",
    "k_means.inertia_"
   ]
  },
  {
   "cell_type": "markdown",
   "metadata": {},
   "source": [
    "WSS reduces as K keeps increasing"
   ]
  },
  {
   "cell_type": "markdown",
   "metadata": {},
   "source": [
    "### Calculating WSS for other values of K - Elbow Method"
   ]
  },
  {
   "cell_type": "code",
   "execution_count": 26,
   "metadata": {},
   "outputs": [],
   "source": [
    "wss =[] "
   ]
  },
  {
   "cell_type": "code",
   "execution_count": 27,
   "metadata": {},
   "outputs": [],
   "source": [
    "for i in range(1,11):\n",
    "    KM = KMeans(n_clusters=i,random_state=1)\n",
    "    KM.fit(scaled_df)\n",
    "    wss.append(KM.inertia_)"
   ]
  },
  {
   "cell_type": "code",
   "execution_count": 28,
   "metadata": {},
   "outputs": [
    {
     "data": {
      "text/plain": [
       "[2575.0,\n",
       " 1943.3740862056475,\n",
       " 1593.9708577192214,\n",
       " 1375.4932875022525,\n",
       " 1220.2742967592992,\n",
       " 1115.7438723951489,\n",
       " 1024.2940640357656,\n",
       " 945.0390781132708,\n",
       " 886.36573214142,\n",
       " 832.7774003606153]"
      ]
     },
     "execution_count": 28,
     "metadata": {},
     "output_type": "execute_result"
    }
   ],
   "source": [
    "wss"
   ]
  },
  {
   "cell_type": "code",
   "execution_count": 35,
   "metadata": {},
   "outputs": [
    {
     "data": {
      "text/plain": [
       "<AxesSubplot:>"
      ]
     },
     "execution_count": 35,
     "metadata": {},
     "output_type": "execute_result"
    },
    {
     "data": {
      "image/png": "[encoded data removed]",
      "text/plain": [
       "<Figure size 432x288 with 1 Axes>"
      ]
     },
     "metadata": {
      "needs_background": "light"
     },
     "output_type": "display_data"
    }
   ],
   "source": [
    "a=[1,2,3,4,5,6,7,8,9,10]\n",
    "\n",
    "sns.pointplot(x = a, y = wss)"
   ]
  },
  {
   "cell_type": "code",
   "execution_count": 37,
   "metadata": {},
   "outputs": [
    {
     "data": {
      "image/png": "[encoded data removed]",
      "text/plain": [
       "<Figure size 432x288 with 1 Axes>"
      ]
     },
     "metadata": {
      "needs_background": "light"
     },
     "output_type": "display_data"
    }
   ],
   "source": [
    "plt.plot(range(1,11), wss);"
   ]
  },
  {
   "cell_type": "markdown",
   "metadata": {},
   "source": [
    "# KMeans with K=3"
   ]
  },
  {
   "cell_type": "code",
   "execution_count": 38,
   "metadata": {},
   "outputs": [],
   "source": [
    "\n",
    "k_means = KMeans(n_clusters = 3,random_state=1)\n",
    "k_means.fit(scaled_df)\n",
    "labels = k_means.labels_\n",
    "\n"
   ]
  },
  {
   "cell_type": "markdown",
   "metadata": {},
   "source": [
    "### Cluster evaluation for 3 clusters: the silhouette score"
   ]
  },
  {
   "cell_type": "code",
   "execution_count": 39,
   "metadata": {},
   "outputs": [],
   "source": [
    "from sklearn.metrics import silhouette_samples, silhouette_score"
   ]
  },
  {
   "cell_type": "code",
   "execution_count": 40,
   "metadata": {},
   "outputs": [
    {
     "data": {
      "text/plain": [
       "0.218819843712231"
      ]
     },
     "execution_count": 40,
     "metadata": {},
     "output_type": "execute_result"
    }
   ],
   "source": [
    "# Calculating silhouette_score\n",
    "\n",
    "silhouette_score(scaled_df,labels,random_state=1)\n"
   ]
  },
  {
   "cell_type": "markdown",
   "metadata": {},
   "source": [
    "# KMeans with K=4"
   ]
  },
  {
   "cell_type": "code",
   "execution_count": 41,
   "metadata": {},
   "outputs": [],
   "source": [
    "k_means = KMeans(n_clusters = 4,random_state=1)\n",
    "k_means.fit(scaled_df)\n",
    "labels = k_means.labels_"
   ]
  },
  {
   "cell_type": "markdown",
   "metadata": {},
   "source": [
    "### Cluster evaluation for 4 clusters"
   ]
  },
  {
   "cell_type": "code",
   "execution_count": null,
   "metadata": {},
   "outputs": [],
   "source": [
    "#from sklearn.metrics import silhouette_samples, silhouette_score"
   ]
  },
  {
   "cell_type": "code",
   "execution_count": 42,
   "metadata": {},
   "outputs": [
    {
     "data": {
      "text/plain": [
       "0.22755082117068726"
      ]
     },
     "execution_count": 42,
     "metadata": {},
     "output_type": "execute_result"
    }
   ],
   "source": [
    "silhouette_score(scaled_df,labels)"
   ]
  },
  {
   "cell_type": "markdown",
   "metadata": {},
   "source": [
    "silhouette score is better for 4 clusters than for 3 clusters. So, final clusters will be 4"
   ]
  },
  {
   "cell_type": "markdown",
   "metadata": {},
   "source": [
    "Appending Clusters to the original dataset"
   ]
  },
  {
   "cell_type": "code",
   "execution_count": 43,
   "metadata": {},
   "outputs": [
    {
     "data": {
      "text/html": [
       "<div>\n",
       "<style scoped>\n",
       "    .dataframe tbody tr th:only-of-type {\n",
       "        vertical-align: middle;\n",
       "    }\n",
       "\n",
       "    .dataframe tbody tr th {\n",
       "        vertical-align: top;\n",
       "    }\n",
       "\n",
       "    .dataframe thead th {\n",
       "        text-align: right;\n",
       "    }\n",
       "</style>\n",
       "<table border=\"1\" class=\"dataframe\">\n",
       "  <thead>\n",
       "    <tr style=\"text-align: right;\">\n",
       "      <th></th>\n",
       "      <th>Bank</th>\n",
       "      <th>DD</th>\n",
       "      <th>Withdrawals</th>\n",
       "      <th>Deposits</th>\n",
       "      <th>Branch Area in sqft</th>\n",
       "      <th>avg daily walkins</th>\n",
       "      <th>Clus_kmeans4</th>\n",
       "    </tr>\n",
       "  </thead>\n",
       "  <tbody>\n",
       "    <tr>\n",
       "      <th>0</th>\n",
       "      <td>1</td>\n",
       "      <td>227</td>\n",
       "      <td>147</td>\n",
       "      <td>111</td>\n",
       "      <td>2460</td>\n",
       "      <td>639</td>\n",
       "      <td>1</td>\n",
       "    </tr>\n",
       "    <tr>\n",
       "      <th>1</th>\n",
       "      <td>2</td>\n",
       "      <td>123</td>\n",
       "      <td>86</td>\n",
       "      <td>65</td>\n",
       "      <td>3510</td>\n",
       "      <td>436</td>\n",
       "      <td>0</td>\n",
       "    </tr>\n",
       "    <tr>\n",
       "      <th>2</th>\n",
       "      <td>3</td>\n",
       "      <td>306</td>\n",
       "      <td>149</td>\n",
       "      <td>76</td>\n",
       "      <td>2570</td>\n",
       "      <td>669</td>\n",
       "      <td>1</td>\n",
       "    </tr>\n",
       "    <tr>\n",
       "      <th>3</th>\n",
       "      <td>4</td>\n",
       "      <td>251</td>\n",
       "      <td>112</td>\n",
       "      <td>129</td>\n",
       "      <td>3650</td>\n",
       "      <td>623</td>\n",
       "      <td>2</td>\n",
       "    </tr>\n",
       "    <tr>\n",
       "      <th>4</th>\n",
       "      <td>5</td>\n",
       "      <td>174</td>\n",
       "      <td>135</td>\n",
       "      <td>128</td>\n",
       "      <td>3400</td>\n",
       "      <td>579</td>\n",
       "      <td>0</td>\n",
       "    </tr>\n",
       "  </tbody>\n",
       "</table>\n",
       "</div>"
      ],
      "text/plain": [
       "   Bank   DD  Withdrawals  Deposits  Branch Area in sqft  avg daily walkins  \\\n",
       "0     1  227          147       111                 2460                639   \n",
       "1     2  123           86        65                 3510                436   \n",
       "2     3  306          149        76                 2570                669   \n",
       "3     4  251          112       129                 3650                623   \n",
       "4     5  174          135       128                 3400                579   \n",
       "\n",
       "   Clus_kmeans4  \n",
       "0             1  \n",
       "1             0  \n",
       "2             1  \n",
       "3             2  \n",
       "4             0  "
      ]
     },
     "execution_count": 43,
     "metadata": {},
     "output_type": "execute_result"
    }
   ],
   "source": [
    "data_df[\"Clus_kmeans4\"] = labels\n",
    "data_df.head()"
   ]
  },
  {
   "cell_type": "markdown",
   "metadata": {},
   "source": [
    "# Cluster Profiling"
   ]
  },
  {
   "cell_type": "code",
   "execution_count": 44,
   "metadata": {},
   "outputs": [
    {
     "data": {
      "text/plain": [
       "<bound method Series.sort_index of 3    149\n",
       "2    139\n",
       "1    130\n",
       "0     97\n",
       "Name: Clus_kmeans4, dtype: int64>"
      ]
     },
     "execution_count": 44,
     "metadata": {},
     "output_type": "execute_result"
    }
   ],
   "source": [
    "data_df.Clus_kmeans4.value_counts().sort_index"
   ]
  },
  {
   "cell_type": "code",
   "execution_count": 45,
   "metadata": {},
   "outputs": [
    {
     "data": {
      "text/html": [
       "<div>\n",
       "<style scoped>\n",
       "    .dataframe tbody tr th:only-of-type {\n",
       "        vertical-align: middle;\n",
       "    }\n",
       "\n",
       "    .dataframe tbody tr th {\n",
       "        vertical-align: top;\n",
       "    }\n",
       "\n",
       "    .dataframe thead th {\n",
       "        text-align: right;\n",
       "    }\n",
       "</style>\n",
       "<table border=\"1\" class=\"dataframe\">\n",
       "  <thead>\n",
       "    <tr style=\"text-align: right;\">\n",
       "      <th></th>\n",
       "      <th>DD</th>\n",
       "      <th>Withdrawals</th>\n",
       "      <th>Deposits</th>\n",
       "      <th>Branch Area in sqft</th>\n",
       "      <th>avg daily walkins</th>\n",
       "      <th>freq</th>\n",
       "    </tr>\n",
       "    <tr>\n",
       "      <th>Clus_kmeans4</th>\n",
       "      <th></th>\n",
       "      <th></th>\n",
       "      <th></th>\n",
       "      <th></th>\n",
       "      <th></th>\n",
       "      <th></th>\n",
       "    </tr>\n",
       "  </thead>\n",
       "  <tbody>\n",
       "    <tr>\n",
       "      <th>0</th>\n",
       "      <td>169.041237</td>\n",
       "      <td>93.865979</td>\n",
       "      <td>97.319588</td>\n",
       "      <td>2995.206186</td>\n",
       "      <td>495.536082</td>\n",
       "      <td>97</td>\n",
       "    </tr>\n",
       "    <tr>\n",
       "      <th>1</th>\n",
       "      <td>278.961538</td>\n",
       "      <td>192.038462</td>\n",
       "      <td>89.261538</td>\n",
       "      <td>2595.461538</td>\n",
       "      <td>693.761538</td>\n",
       "      <td>130</td>\n",
       "    </tr>\n",
       "    <tr>\n",
       "      <th>2</th>\n",
       "      <td>290.884892</td>\n",
       "      <td>105.215827</td>\n",
       "      <td>72.661871</td>\n",
       "      <td>3115.755396</td>\n",
       "      <td>601.388489</td>\n",
       "      <td>139</td>\n",
       "    </tr>\n",
       "    <tr>\n",
       "      <th>3</th>\n",
       "      <td>177.953020</td>\n",
       "      <td>194.040268</td>\n",
       "      <td>73.322148</td>\n",
       "      <td>3022.281879</td>\n",
       "      <td>580.080537</td>\n",
       "      <td>149</td>\n",
       "    </tr>\n",
       "  </tbody>\n",
       "</table>\n",
       "</div>"
      ],
      "text/plain": [
       "                      DD  Withdrawals   Deposits  Branch Area in sqft  \\\n",
       "Clus_kmeans4                                                            \n",
       "0             169.041237    93.865979  97.319588          2995.206186   \n",
       "1             278.961538   192.038462  89.261538          2595.461538   \n",
       "2             290.884892   105.215827  72.661871          3115.755396   \n",
       "3             177.953020   194.040268  73.322148          3022.281879   \n",
       "\n",
       "              avg daily walkins  freq  \n",
       "Clus_kmeans4                           \n",
       "0                    495.536082    97  \n",
       "1                    693.761538   130  \n",
       "2                    601.388489   139  \n",
       "3                    580.080537   149  "
      ]
     },
     "execution_count": 45,
     "metadata": {},
     "output_type": "execute_result"
    }
   ],
   "source": [
    "clust_profile=data_df.drop(['Bank'],axis=1)\n",
    "clust_profile=clust_profile.groupby('Clus_kmeans4').mean()\n",
    "clust_profile['freq']=data_df.Clus_kmeans4.value_counts().sort_index()\n",
    "clust_profile"
   ]
  },
  {
   "cell_type": "markdown",
   "metadata": {},
   "source": [
    "- Cluster 0: Medium size bank with less withdrawal,walkin, DD but highest Deposit\n",
    "- Cluster 1: Medium size bank with less walkins and deposits and high withdrawals\n",
    "- Cluster 2: Small size bank with less deposit but highest walkins and Withdrawals, and large DD\n",
    "- Cluster 3: Large size bank with more number of walkins and highest DD, but less Deposits"
   ]
  },
  {
   "cell_type": "markdown",
   "metadata": {},
   "source": [
    "# Some Recommendations"
   ]
  },
  {
   "cell_type": "markdown",
   "metadata": {},
   "source": [
    "1. The banks in Cluster 3 has high DD and Withdrawals, but less Deposit.  So it needs to improve in making the customers Deposit more. Relatively large number of customers are visiting these banks. So, can promote various deposit schemes to these customers.\n",
    "\n",
    "\n",
    "2. Customers in Cluster 3 seems to prefer payment through DD as these banks record the highest DD rate. Banks can check if DD is being made to other banks or to the same bank, and can look to create DD schemes for their own bank, so that customers will open their account with these banks and use the DD payment scheme.\n",
    "\n",
    "\n",
    "3. Customers preferring DD payment can go to banks either in Cluster 3 (if they need large space which can manage large crowd probably with more infrastructure facilities), or Cluster 2 (if they want small space where probably quick transaction can happen due to less crowd holding capacity) \n",
    "\n",
    "\n",
    "4. Size of the bank doesn't matter in accomodating large group of customers inside the bank, as Cluster 2 though having the least Branch Area, has the highest daily walk ins. So, banks don't need to invest more in occupying large land space. This could mean Customers are visiting throughout the day rather than a large group of customers visiting during a period.\n",
    "\n",
    "\n",
    "5. Cluster 0 has large area and the proportion of withdrawals and deposits is almost equal. Most of these customers could be having a savings account since the withdrawals as well as DD are less when compared to other clusters. Customers visiting these banks are also lesser than other clusters. These banks can look bringing in more customers and increase the bank deposit by introducing various deposit schemes.\n",
    "\n",
    "\n",
    "6. Deposit is again less, while the withdrawals are much higher for Cluster 1. These banks can also look to introducing new deposit schemes.\n",
    "\n",
    "\n",
    "7. Banks in cluster 1 and 2, needs to focus on their infrastructure and banking facilities, since the area is lesser than cluster 0 and 3 , whereas daily walkins is the highest. These banks can also look for opportunities to cross-sell products to the customers.\n"
   ]
  },
  {
   "cell_type": "code",
   "execution_count": null,
   "metadata": {},
   "outputs": [],
   "source": [
    "#data_df.to_csv('km.csv')"
   ]
  }
 ],
 "metadata": {
  "kernelspec": {
   "display_name": "Python 3 (ipykernel)",
   "language": "python",
   "name": "python3"
  },
  "language_info": {
   "codemirror_mode": {
    "name": "ipython",
    "version": 3
   },
   "file_extension": ".py",
   "mimetype": "text/x-python",
   "name": "python",
   "nbconvert_exporter": "python",
   "pygments_lexer": "ipython3",
   "version": "3.10.0"
  },
  "toc": {
   "base_numbering": 1,
   "nav_menu": {},
   "number_sections": true,
   "sideBar": true,
   "skip_h1_title": false,
   "title_cell": "Table of Contents",
   "title_sidebar": "Contents",
   "toc_cell": false,
   "toc_position": {},
   "toc_section_display": true,
   "toc_window_display": false
  },
  "varInspector": {
   "cols": {
    "lenName": 16,
    "lenType": 16,
    "lenVar": 40
   },
   "kernels_config": {
    "python": {
     "delete_cmd_postfix": "",
     "delete_cmd_prefix": "del ",
     "library": "var_list.py",
     "varRefreshCmd": "print(var_dic_list())"
    },
    "r": {
     "delete_cmd_postfix": ") ",
     "delete_cmd_prefix": "rm(",
     "library": "var_list.r",
     "varRefreshCmd": "cat(var_dic_list()) "
    }
   },
   "types_to_exclude": [
    "module",
    "function",
    "builtin_function_or_method",
    "instance",
    "_Feature"
   ],
   "window_display": false
  }
 },
 "nbformat": 4,
 "nbformat_minor": 2
}
