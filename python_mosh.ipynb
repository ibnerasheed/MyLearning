{
 "cells": [
  {
   "cell_type": "code",
   "execution_count": 1,
   "id": "19e34a0a",
   "metadata": {},
   "outputs": [
    {
     "name": "stdout",
     "output_type": "stream",
     "text": [
      "**********\n"
     ]
    }
   ],
   "source": [
    "print('*'*10) \n"
   ]
  },
  {
   "cell_type": "code",
   "execution_count": 3,
   "id": "bf904baf",
   "metadata": {},
   "outputs": [
    {
     "name": "stdout",
     "output_type": "stream",
     "text": [
      "20\n"
     ]
    }
   ],
   "source": [
    "price = 10\n",
    "price = 20\n",
    "name = 'Adil'\n",
    "is_publihed = False\n",
    "print(price)"
   ]
  },
  {
   "cell_type": "code",
   "execution_count": 4,
   "id": "f827685e",
   "metadata": {},
   "outputs": [],
   "source": [
    "name = \"John Smith\"\n",
    "age = 20\n",
    "is_new = True"
   ]
  },
  {
   "cell_type": "code",
   "execution_count": 5,
   "id": "393afcdd",
   "metadata": {},
   "outputs": [
    {
     "name": "stdout",
     "output_type": "stream",
     "text": [
      "What is your name? Adil\n",
      "Hi Adil\n"
     ]
    }
   ],
   "source": [
    "#receive input\n",
    "name = input('What is your name? ')\n",
    "print('Hi ' + name)"
   ]
  },
  {
   "cell_type": "code",
   "execution_count": 8,
   "id": "52f072b8",
   "metadata": {},
   "outputs": [
    {
     "name": "stdout",
     "output_type": "stream",
     "text": [
      "What is your name? adil\n",
      "What is your fav color? red\n",
      "adil likes red\n"
     ]
    }
   ],
   "source": [
    "name = input('What is your name? ')\n",
    "color = input('What is your fav color? ')\n",
    "print(name + ' likes ' + color)"
   ]
  },
  {
   "cell_type": "code",
   "execution_count": 13,
   "id": "daba6f53",
   "metadata": {},
   "outputs": [
    {
     "name": "stdout",
     "output_type": "stream",
     "text": [
      "<class 'str'>\n",
      "<class 'int'>\n",
      "37\n"
     ]
    }
   ],
   "source": [
    "#type conversion\n",
    "birth_year = '1982'\n",
    "print(type(birth_year))\n",
    "print(type(age))\n",
    "age = 2019 - int(birth_year)\n",
    "print(age)\n"
   ]
  },
  {
   "cell_type": "code",
   "execution_count": 14,
   "id": "258429f6",
   "metadata": {},
   "outputs": [
    {
     "name": "stdout",
     "output_type": "stream",
     "text": [
      "Weight in lbs: 34\n",
      "15.3\n"
     ]
    }
   ],
   "source": [
    "weight_lbs = input('Weight in lbs: ')\n",
    "weight_kg = float(weight_lbs) * 0.45\n",
    "print(weight_kg)"
   ]
  },
  {
   "cell_type": "code",
   "execution_count": 20,
   "id": "a22d345a",
   "metadata": {},
   "outputs": [
    {
     "name": "stdout",
     "output_type": "stream",
     "text": [
      "\n",
      "Hi Adil,\n",
      "\n",
      "here is our first email.\n",
      "Thank you,\n",
      "The support team\n",
      "\n"
     ]
    }
   ],
   "source": [
    "\n",
    "course = '''\n",
    "Hi Adil,\n",
    "\n",
    "here is our first email.\n",
    "Thank you,\n",
    "The support team\n",
    "'''\n",
    "\n",
    "print(course)\n"
   ]
  },
  {
   "cell_type": "code",
   "execution_count": 30,
   "id": "72b2fc7b",
   "metadata": {},
   "outputs": [
    {
     "name": "stdout",
     "output_type": "stream",
     "text": [
      "Python for beginners\n"
     ]
    }
   ],
   "source": [
    "course = 'Python for beginners'\n",
    "another = course[:]\n",
    "print(another)"
   ]
  },
  {
   "cell_type": "code",
   "execution_count": 31,
   "id": "d0e16ec2",
   "metadata": {},
   "outputs": [
    {
     "name": "stdout",
     "output_type": "stream",
     "text": [
      "ennife\n"
     ]
    }
   ],
   "source": [
    "name = 'Jennifer'\n",
    "print(name[1:-1])"
   ]
  },
  {
   "cell_type": "code",
   "execution_count": 33,
   "id": "be4da47c",
   "metadata": {},
   "outputs": [
    {
     "name": "stdout",
     "output_type": "stream",
     "text": [
      "John [Smith]   is a coder\n"
     ]
    }
   ],
   "source": [
    "#formatted strings\n",
    "\n",
    "first = 'John'\n",
    "last = 'Smith'\n",
    "message = first + ' ['+last+']   is a coder'\n",
    "print(message)"
   ]
  },
  {
   "cell_type": "code",
   "execution_count": 38,
   "id": "77e43c92",
   "metadata": {},
   "outputs": [
    {
     "name": "stdout",
     "output_type": "stream",
     "text": [
      "John [Smith] is a coder.\n"
     ]
    }
   ],
   "source": [
    "msg = f'{first} [{last}] is a coder.'\n",
    "print(msg)"
   ]
  },
  {
   "cell_type": "code",
   "execution_count": 51,
   "id": "54e9a0eb",
   "metadata": {},
   "outputs": [
    {
     "name": "stdout",
     "output_type": "stream",
     "text": [
      "20\n",
      "PYTHON FOR BEGINNERS\n",
      "Python for beginners\n",
      "11\n",
      "Python for absolute beginner\n",
      "Python for beginners\n",
      "False\n"
     ]
    }
   ],
   "source": [
    "#string methoda\n",
    "course = 'Python for beginners'\n",
    "\n",
    "print(len(course))\n",
    "print(course.upper())\n",
    "print(course)\n",
    "\n",
    "print(course.find('beginners')) #return index\n",
    "print(course.replace('beginners', 'absolute beginner'))\n",
    "print(course)\n",
    "\n",
    "print('python' in course) #produces boolean value not index"
   ]
  },
  {
   "cell_type": "code",
   "execution_count": 54,
   "id": "46afb389",
   "metadata": {},
   "outputs": [
    {
     "name": "stdout",
     "output_type": "stream",
     "text": [
      "3\n",
      "1\n",
      "100\n"
     ]
    }
   ],
   "source": [
    "print(10//3)\n",
    "print(10 % 3)\n",
    "print(10 ** 2)"
   ]
  },
  {
   "cell_type": "code",
   "execution_count": 55,
   "id": "9e7aaa4e",
   "metadata": {},
   "outputs": [],
   "source": [
    "x = 10\n",
    "x = 10 + 3"
   ]
  },
  {
   "cell_type": "code",
   "execution_count": 57,
   "id": "5a419748",
   "metadata": {},
   "outputs": [
    {
     "name": "stdout",
     "output_type": "stream",
     "text": [
      "16\n"
     ]
    }
   ],
   "source": [
    "x = 10 + 3 *2\n",
    "print(x)"
   ]
  },
  {
   "cell_type": "code",
   "execution_count": 59,
   "id": "0cd00aea",
   "metadata": {},
   "outputs": [
    {
     "name": "stdout",
     "output_type": "stream",
     "text": [
      "3\n",
      "2.9\n"
     ]
    }
   ],
   "source": [
    "x = 2.9\n",
    "print(round(x))\n",
    "print(abs(-2.9))"
   ]
  },
  {
   "cell_type": "code",
   "execution_count": 61,
   "id": "055214e2",
   "metadata": {},
   "outputs": [
    {
     "name": "stdout",
     "output_type": "stream",
     "text": [
      "3\n"
     ]
    }
   ],
   "source": [
    "import math\n",
    "print(math.ceil(2.9))\n"
   ]
  },
  {
   "cell_type": "code",
   "execution_count": 68,
   "id": "644517b0",
   "metadata": {},
   "outputs": [
    {
     "name": "stdout",
     "output_type": "stream",
     "text": [
      "Lovely day\n",
      "Enjoy your days\n"
     ]
    }
   ],
   "source": [
    "is_hot = False\n",
    "\n",
    "is_cold = False\n",
    "\n",
    "if is_hot:\n",
    "    print(\"It's a hot day\")\n",
    "    print(\"rink plenty of water\")\n",
    "elif is_cold:\n",
    "    print(\"cold\")\n",
    "    print(\"hot clothes\")\n",
    "else:\n",
    "    print(\"Lovely day\")\n",
    "    \n",
    "    \n",
    "print(\"Enjoy your days\")"
   ]
  },
  {
   "cell_type": "code",
   "execution_count": 1,
   "id": "be525577",
   "metadata": {},
   "outputs": [
    {
     "name": "stdout",
     "output_type": "stream",
     "text": [
      "Downpayment: $10000.0\n"
     ]
    }
   ],
   "source": [
    "price = 100000\n",
    "\n",
    "has_good_credit = True\n",
    "\n",
    "if has_good_credit:\n",
    "    down_payment = 0.1 *price\n",
    "    \n",
    "else:\n",
    "    down_payment = 0.2 * price\n",
    "print(f\"Downpayment: ${down_payment}\")"
   ]
  },
  {
   "cell_type": "code",
   "execution_count": 5,
   "id": "615c8a93",
   "metadata": {},
   "outputs": [
    {
     "name": "stdout",
     "output_type": "stream",
     "text": [
      "Weight:67\n",
      "L or k: l\n",
      "You are 148.88888888888889 pounds\n"
     ]
    }
   ],
   "source": [
    "weight = int(input('Weight:'))\n",
    "unit = input('L or k: ')\n",
    "\n",
    "if unit.upper == \"L\":\n",
    "    converted = weight * 0.45\n",
    "    print(f\"You are {converted} kilos\")\n",
    "else:\n",
    "    converted = weight / 0.45\n",
    "    print(f\"You are {converted} pounds\")"
   ]
  },
  {
   "cell_type": "code",
   "execution_count": 8,
   "id": "00db6b03",
   "metadata": {},
   "outputs": [
    {
     "name": "stdout",
     "output_type": "stream",
     "text": [
      "*\n",
      "**\n",
      "***\n",
      "****\n",
      "*****\n",
      "Done\n"
     ]
    }
   ],
   "source": [
    "#while loops\n",
    "i = 1\n",
    "\n",
    "while i<= 5:\n",
    "    print('*' * i)\n",
    "    i = i+1\n",
    "    \n",
    "print(\"Done\")"
   ]
  },
  {
   "cell_type": "code",
   "execution_count": 13,
   "id": "b3c2bafe",
   "metadata": {},
   "outputs": [
    {
     "name": "stdout",
     "output_type": "stream",
     "text": [
      "Guess: 8\n",
      "Guess: 7\n",
      "Guess: 9\n",
      "you won!\n"
     ]
    }
   ],
   "source": [
    "#guessing game\n",
    "secret_number = 9\n",
    "guess_count = 0\n",
    "guess_limit = 3\n",
    "while guess_count < guess_limit:\n",
    "    guess = int(input('Guess: '))\n",
    "    guess_count += 1\n",
    "    \n",
    "    if guess == secret_number:\n",
    "        print(\"you won!\")\n",
    "        break\n",
    "else:\n",
    "    print(\"sorry u failed\")\n",
    "    \n",
    "    "
   ]
  },
  {
   "cell_type": "code",
   "execution_count": 18,
   "id": "4e5b218d",
   "metadata": {},
   "outputs": [
    {
     "name": "stdout",
     "output_type": "stream",
     "text": [
      "> stop\n",
      "car is alreday stopped\n",
      "> start\n",
      "car started\n",
      "> start\n",
      "car has already started...\n",
      "> stop\n",
      "car stopped\n",
      "> stop\n",
      "car is alreday stopped\n",
      "> quit\n"
     ]
    }
   ],
   "source": [
    "command = \"\"\n",
    "started = False\n",
    "\n",
    "while command != \"quit\":\n",
    "    command = input(\"> \").lower()\n",
    "    if command == \"start\":\n",
    "        if started:\n",
    "            print(\"car has already started...\")\n",
    "        else:\n",
    "            started = True\n",
    "            print(\"car started\")\n",
    "    elif command == \"stop\":\n",
    "        if not started:\n",
    "            print(\"car is alreday stopped\")\n",
    "        else:\n",
    "            started = False\n",
    "            print(\"car stopped\")\n",
    "        \n",
    "    elif command == \"help\":\n",
    "        print(\"\"\"\n",
    "start - to start the car\n",
    "stop - tostop the car\n",
    "quit - to quit\n",
    "        \"\"\")\n",
    "    elif command == \"quit\":\n",
    "        break\n",
    "    else:\n",
    "        print(\"sorry i don't understand\")\n",
    "        "
   ]
  },
  {
   "cell_type": "code",
   "execution_count": 20,
   "id": "b1b5b0d9",
   "metadata": {},
   "outputs": [
    {
     "name": "stdout",
     "output_type": "stream",
     "text": [
      "Mosh\n",
      "John\n",
      "sara\n"
     ]
    }
   ],
   "source": [
    "#for loops\n",
    "for item in ['Mosh', 'John', 'sara']:\n",
    "    print(item)\n",
    "\n"
   ]
  },
  {
   "cell_type": "code",
   "execution_count": 23,
   "id": "db13553e",
   "metadata": {},
   "outputs": [
    {
     "name": "stdout",
     "output_type": "stream",
     "text": [
      "5\n",
      "7\n",
      "9\n"
     ]
    }
   ],
   "source": [
    "for item in range(5, 10, 2):\n",
    "    print(item)"
   ]
  },
  {
   "cell_type": "code",
   "execution_count": 24,
   "id": "c367f2fd",
   "metadata": {},
   "outputs": [
    {
     "name": "stdout",
     "output_type": "stream",
     "text": [
      "total : 60\n"
     ]
    }
   ],
   "source": [
    "prices = [10, 20, 30]\n",
    "total = 0\n",
    "for price in prices:\n",
    "    total += price\n",
    "print(f\"total : {total}\")"
   ]
  },
  {
   "cell_type": "code",
   "execution_count": 27,
   "id": "486a1af7",
   "metadata": {},
   "outputs": [
    {
     "name": "stdout",
     "output_type": "stream",
     "text": [
      "(0, 0)\n",
      "(0, 1)\n",
      "(0, 2)\n",
      "(1, 0)\n",
      "(1, 1)\n",
      "(1, 2)\n",
      "(2, 0)\n",
      "(2, 1)\n",
      "(2, 2)\n",
      "(3, 0)\n",
      "(3, 1)\n",
      "(3, 2)\n"
     ]
    }
   ],
   "source": [
    "#generate list of cordinates\n",
    "for x in range(4):\n",
    "    for y in range(3):\n",
    "        print(f'({x}, {y})')"
   ]
  },
  {
   "cell_type": "code",
   "execution_count": 28,
   "id": "22850bfa",
   "metadata": {},
   "outputs": [
    {
     "name": "stdout",
     "output_type": "stream",
     "text": [
      "xxxxx\n",
      "xx\n",
      "xxxxx\n",
      "xx\n",
      "xx\n"
     ]
    }
   ],
   "source": [
    "numbers = [5, 2, 5, 2, 2]\n",
    "\n",
    "for x_count in numbers:\n",
    "    output = ''\n",
    "    for count in range(x_count):\n",
    "        output += 'x'\n",
    "    print(output)\n",
    "    "
   ]
  },
  {
   "cell_type": "code",
   "execution_count": 5,
   "id": "2ce5b555",
   "metadata": {},
   "outputs": [
    {
     "name": "stdout",
     "output_type": "stream",
     "text": [
      "['Mosh', 'Sara']\n",
      "['John', 'Bob', 'Mosh', 'Sara', 'Mahaha']\n"
     ]
    }
   ],
   "source": [
    "#list\n",
    "names = ['John','Bob', 'Mosh', 'Sara', 'Mahaha']\n",
    "print(names[2:4])\n",
    "print(names)\n",
    "\n",
    "names[0] = 'Jon'\n"
   ]
  },
  {
   "cell_type": "code",
   "execution_count": 6,
   "id": "bef0b454",
   "metadata": {},
   "outputs": [
    {
     "name": "stdout",
     "output_type": "stream",
     "text": [
      "10\n"
     ]
    }
   ],
   "source": [
    "#largest number in the list\n",
    "\n",
    "numbers = [3, 6, 2, 8, 4, 10]\n",
    "\n",
    "max = numbers[0]\n",
    "\n",
    "for number in numbers:\n",
    "    if number > max:\n",
    "        max = number\n",
    "print(max)"
   ]
  },
  {
   "cell_type": "code",
   "execution_count": 8,
   "id": "f27d5c55",
   "metadata": {},
   "outputs": [
    {
     "name": "stdout",
     "output_type": "stream",
     "text": [
      "2\n",
      "[[1, 20, 3], [4, 5, 6], [7, 8, 9]]\n"
     ]
    }
   ],
   "source": [
    "#2d list\n",
    "matrix = [[1, 2, 3], \n",
    "          [4, 5, 6],\n",
    "         [7, 8, 9]]\n",
    "\n",
    "print(matrix[0][1])\n",
    "matrix[0][1] = 20\n",
    "print(matrix)"
   ]
  },
  {
   "cell_type": "code",
   "execution_count": 10,
   "id": "53616c24",
   "metadata": {},
   "outputs": [
    {
     "name": "stdout",
     "output_type": "stream",
     "text": [
      "1\n",
      "20\n",
      "3\n",
      "4\n",
      "5\n",
      "6\n",
      "7\n",
      "8\n",
      "9\n"
     ]
    }
   ],
   "source": [
    "for row in matrix:\n",
    "    for item in row:\n",
    "        print(item)"
   ]
  },
  {
   "cell_type": "code",
   "execution_count": 19,
   "id": "9d352c42",
   "metadata": {},
   "outputs": [
    {
     "name": "stdout",
     "output_type": "stream",
     "text": [
      "[5, 2, 1, 7, 4, 20]\n",
      "[10, 5, 2, 1, 7, 4, 20]\n",
      "[10, 2, 1, 7, 4, 20]\n",
      "[10, 2, 1, 7, 4]\n",
      "0\n",
      "True\n"
     ]
    }
   ],
   "source": [
    "#List methods\n",
    "\n",
    "numbers = [5, 2, 1, 7, 4]\n",
    "\n",
    "numbers.append(20)\n",
    "print(numbers)\n",
    "\n",
    "numbers.insert(0, 10) \n",
    "print(numbers)\n",
    "\n",
    "numbers.remove(5)\n",
    "print(numbers)\n",
    "\n",
    "numbers.pop()\n",
    "print(numbers)\n",
    "\n",
    "print(numbers.index(10))\n",
    "\n",
    "print(10 in numbers)"
   ]
  },
  {
   "cell_type": "code",
   "execution_count": 21,
   "id": "745b8375",
   "metadata": {},
   "outputs": [
    {
     "name": "stdout",
     "output_type": "stream",
     "text": [
      "[1, 2, 4, 7, 10]\n"
     ]
    }
   ],
   "source": [
    "numbers.sort()\n",
    "print(numbers)"
   ]
  },
  {
   "cell_type": "code",
   "execution_count": 23,
   "id": "5fbace77",
   "metadata": {},
   "outputs": [
    {
     "name": "stdout",
     "output_type": "stream",
     "text": [
      "[2, 4, 6, 3, 1]\n"
     ]
    }
   ],
   "source": [
    "numbers_dup = [2, 2, 4, 6, 3, 3,4, 6, 1]\n",
    "unique = []\n",
    "for number in numbers_dup:\n",
    "    if number not in unique:\n",
    "        unique.append(number)\n",
    "print(unique)"
   ]
  },
  {
   "cell_type": "code",
   "execution_count": 25,
   "id": "4fb979a8",
   "metadata": {},
   "outputs": [
    {
     "name": "stdout",
     "output_type": "stream",
     "text": [
      "1\n"
     ]
    }
   ],
   "source": [
    "#Tuples\n",
    "\n",
    "numbers =(1, 2, 3)\n",
    "\n",
    "print(numbers[0])\n"
   ]
  },
  {
   "cell_type": "code",
   "execution_count": null,
   "id": "888dd487",
   "metadata": {},
   "outputs": [],
   "source": [
    "coordinates = (1, 2, 3)\n",
    "#x = coordinates[0]\n",
    "#y = coordinates[1]\n",
    "#z = coordinates[2]\n",
    "\n",
    "x, y, z = coordinates #Unpacking three var\n",
    "\n"
   ]
  },
  {
   "cell_type": "code",
   "execution_count": 26,
   "id": "dbf03641",
   "metadata": {},
   "outputs": [],
   "source": [
    "coordinates = [1, 2, 3]\n",
    "\n",
    "x,y,z = coordinates"
   ]
  },
  {
   "cell_type": "code",
   "execution_count": 5,
   "id": "2c0e6f37",
   "metadata": {},
   "outputs": [
    {
     "name": "stdout",
     "output_type": "stream",
     "text": [
      "John Smith\n",
      "Jan 1 1980\n"
     ]
    }
   ],
   "source": [
    "#dicctionary\n",
    "#Bunch of key value pairs\n",
    "\n",
    "customer = {\n",
    "    \"name\": \"John Smith\",\n",
    "    \"age\" : 30,\n",
    "    \"is_verified\" : True\n",
    "}\n",
    "\n",
    "customer [\"birthdate\"] = \"Jan 1 1980\"\n",
    "#access\n",
    "print(customer[\"name\"])\n",
    "customer.get(\"name\")\n",
    "print(customer[\"birthdate\"])\n",
    "\n",
    "#Both above are same\n"
   ]
  },
  {
   "cell_type": "code",
   "execution_count": 7,
   "id": "98df7229",
   "metadata": {},
   "outputs": [
    {
     "name": "stdout",
     "output_type": "stream",
     "text": [
      "Phone: 1342\n",
      "One Three Four two \n"
     ]
    }
   ],
   "source": [
    "#number to word\n",
    "\n",
    "phone = input(\"Phone: \")\n",
    "\n",
    "#use dict to maap the word\n",
    "\n",
    "digit_mapping = {\n",
    "    \"1\" :\"One\",\n",
    "    \"2\" : \"two\",\n",
    "    \"3\" : \"Three\",\n",
    "    \"4\" : \"Four\"\n",
    "}\n",
    "\n",
    "output = \"\"\n",
    "for ch in phone:\n",
    "    output+=digit_mapping.get(ch, \"!\") + \" \"\n",
    "    \n",
    "print(output)"
   ]
  },
  {
   "cell_type": "code",
   "execution_count": 14,
   "id": "242ee16e",
   "metadata": {},
   "outputs": [
    {
     "name": "stdout",
     "output_type": "stream",
     "text": [
      ">good morning :)\n",
      "good morning happy \n"
     ]
    }
   ],
   "source": [
    "message = input(\">\")\n",
    "\n",
    "words = message.split(' ')#go to string ad jisme bhi space hai separates\n",
    "\n",
    "emojis = {\n",
    "    \":)\" : \"happy\",\n",
    "    \":(\": \"sad\"\n",
    "}\n",
    "\n",
    "\n",
    "output = \"\"\n",
    "for word in words:\n",
    "    output+=emojis.get(word, word)+ \" \"\n",
    "print(output)\n",
    "\n",
    "\n",
    "\n"
   ]
  },
  {
   "cell_type": "code",
   "execution_count": 16,
   "id": "a2e92361",
   "metadata": {},
   "outputs": [
    {
     "name": "stdout",
     "output_type": "stream",
     "text": [
      "start\n",
      "hi there\n",
      "welcome aboard\n",
      "finish\n"
     ]
    }
   ],
   "source": [
    "#Functions\n",
    "def greet_user():\n",
    "    print(\"hi there\")\n",
    "    print('welcome aboard')\n",
    "    \n",
    "print('start')\n",
    "\n",
    "greet_user()\n",
    "\n",
    "print('finish')"
   ]
  },
  {
   "cell_type": "code",
   "execution_count": 19,
   "id": "becfb868",
   "metadata": {},
   "outputs": [
    {
     "name": "stdout",
     "output_type": "stream",
     "text": [
      "start\n",
      "hi John!\n",
      "welcome aboard\n",
      "hi mary!\n",
      "welcome aboard\n",
      "finish\n"
     ]
    }
   ],
   "source": [
    "def greet_user(name):\n",
    "    \n",
    "    print(f'hi {name}!')\n",
    "    print('welcome aboard')\n",
    "    \n",
    "print('start')\n",
    "\n",
    "greet_user(\"John\")\n",
    "greet_user(\"mary\")\n",
    "\n",
    "print('finish')"
   ]
  },
  {
   "cell_type": "code",
   "execution_count": 20,
   "id": "97238169",
   "metadata": {},
   "outputs": [],
   "source": [
    "def square(number):\n",
    "    return number*number"
   ]
  },
  {
   "cell_type": "code",
   "execution_count": 21,
   "id": "900b174b",
   "metadata": {},
   "outputs": [
    {
     "name": "stdout",
     "output_type": "stream",
     "text": [
      ">i am sad\n",
      ">i am happy\n",
      "i am happy \n"
     ]
    }
   ],
   "source": [
    "def emoji_converter(message):\n",
    "    message = input(\">\")\n",
    "\n",
    "    words = message.split(' ')#go to string ad jisme bhi space hai separates\n",
    "\n",
    "    emojis = {\n",
    "        \":)\" : \"happy\",\n",
    "        \":(\": \"sad\"\n",
    "    }\n",
    "\n",
    "\n",
    "    output = \"\"\n",
    "    for word in words:\n",
    "        output+=emojis.get(word, word)+ \" \"\n",
    "    return output\n",
    "\n",
    "\n",
    "\n",
    "message = input(\">\")\n",
    "print(emoji_converter(message))"
   ]
  },
  {
   "cell_type": "code",
   "execution_count": 27,
   "id": "9b05683e",
   "metadata": {},
   "outputs": [
    {
     "name": "stdout",
     "output_type": "stream",
     "text": [
      "Age: 0\n",
      "age cannot be zero\n"
     ]
    }
   ],
   "source": [
    "#Exception\n",
    "try:\n",
    "\n",
    "    age =int(input('Age: '))\n",
    "    income = 20000\n",
    "    risk = income/age\n",
    "    print(age)\n",
    "\n",
    "except ZeroDivisionError:\n",
    "    print('age cannot be zero')\n",
    "    \n",
    "except ValueError:\n",
    "    print('Invalid value')\n",
    "\n"
   ]
  },
  {
   "cell_type": "code",
   "execution_count": 30,
   "id": "31814bdf",
   "metadata": {},
   "outputs": [
    {
     "name": "stdout",
     "output_type": "stream",
     "text": [
      "10\n",
      "draw\n"
     ]
    }
   ],
   "source": [
    "#Classes:\n",
    "class Point:\n",
    "    def move(self):\n",
    "        print(\"move\")\n",
    "        \n",
    "    def draw(self):\n",
    "        print(\"draw\")\n",
    "        \n",
    "point1 = Point()\n",
    "point1.x = 10\n",
    "point1.y = 20\n",
    "print(point1.x)\n",
    "point1.draw()\n",
    "\n",
    "\n",
    "point2 = Point()\n",
    "point2.x = 67\n"
   ]
  },
  {
   "cell_type": "code",
   "execution_count": 32,
   "id": "ffa697d2",
   "metadata": {},
   "outputs": [
    {
     "name": "stdout",
     "output_type": "stream",
     "text": [
      "11\n"
     ]
    }
   ],
   "source": [
    "#constructors:\n",
    "\n",
    "class Point:\n",
    "    def __init__(self, x, y):\n",
    "        self.x = x\n",
    "        self.y = y\n",
    "        \n",
    "    def move(self):\n",
    "        print(\"move\")\n",
    "        \n",
    "    def draw(self):\n",
    "        print(\"draw\")\n",
    "        \n",
    "point = Point(10, 20)\n",
    "point.x = 11\n",
    "print(point.x)"
   ]
  },
  {
   "cell_type": "code",
   "execution_count": 38,
   "id": "f8b61519",
   "metadata": {},
   "outputs": [
    {
     "name": "stdout",
     "output_type": "stream",
     "text": [
      "hi ,I am John Smith\n",
      "hi ,I am Bob smith\n"
     ]
    }
   ],
   "source": [
    "class Person:\n",
    "    def __init__(self, name):\n",
    "        self.name = name\n",
    "    def talk(self):\n",
    "        print(f\"hi ,I am {self.name}\")\n",
    "        \n",
    "john = Person(\"John Smith\")\n",
    "\n",
    "john.talk()\n",
    "\n",
    "\n",
    "bob = Person(\"Bob smith\")\n",
    "bob.talk()"
   ]
  },
  {
   "cell_type": "code",
   "execution_count": 46,
   "id": "7dfabcaa",
   "metadata": {},
   "outputs": [
    {
     "name": "stdout",
     "output_type": "stream",
     "text": [
      "walk\n",
      "None\n",
      "annoying\n",
      "None\n"
     ]
    }
   ],
   "source": [
    "#Inheritance\n",
    "class Mammal:\n",
    "    def walk(self):\n",
    "        print(\"walk\")\n",
    "    \n",
    "        \n",
    "    \n",
    "\n",
    "class Dog(Mammal):\n",
    "    def bark(self):\n",
    "        print(\"bark\")\n",
    "        \n",
    "         \n",
    "        \n",
    "              \n",
    "    \n",
    "        \n",
    "class Cat(Mammal):\n",
    "    def be_annonying(self):\n",
    "                  print(\"annoying\")\n",
    "              \n",
    "              \n",
    "              \n",
    "dog1 = Dog()\n",
    "print(dog1.walk())\n",
    "    \n",
    "cat1 = Cat()\n",
    "print(cat1.be_annonying())"
   ]
  },
  {
   "cell_type": "code",
   "execution_count": null,
   "id": "811ad615",
   "metadata": {},
   "outputs": [],
   "source": []
  },
  {
   "cell_type": "code",
   "execution_count": null,
   "id": "5e8279b7",
   "metadata": {},
   "outputs": [],
   "source": []
  },
  {
   "cell_type": "code",
   "execution_count": null,
   "id": "13f982d1",
   "metadata": {},
   "outputs": [],
   "source": []
  }
 ],
 "metadata": {
  "kernelspec": {
   "display_name": "Python 3 (ipykernel)",
   "language": "python",
   "name": "python3"
  },
  "language_info": {
   "codemirror_mode": {
    "name": "ipython",
    "version": 3
   },
   "file_extension": ".py",
   "mimetype": "text/x-python",
   "name": "python",
   "nbconvert_exporter": "python",
   "pygments_lexer": "ipython3",
   "version": "3.9.7"
  }
 },
 "nbformat": 4,
 "nbformat_minor": 5
}
