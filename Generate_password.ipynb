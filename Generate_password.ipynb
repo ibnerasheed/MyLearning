{
 "cells": [
  {
   "cell_type": "code",
   "execution_count": 1,
   "id": "f1cb1a81",
   "metadata": {},
   "outputs": [],
   "source": [
    "import random"
   ]
  },
  {
   "cell_type": "code",
   "execution_count": 9,
   "id": "738be3eb",
   "metadata": {},
   "outputs": [
    {
     "name": "stdout",
     "output_type": "stream",
     "text": [
      "The password generated is :  !lF8r6Sg3Az\n"
     ]
    }
   ],
   "source": [
    "lower_case = \"abcdefghijklmnopqrstuvwxyz\"\n",
    "upper_case = \"ABCDEFGHIJKLMNOPQRSTUVWXYZ\"\n",
    "num = \"1234567890\"\n",
    "symbols = \"@#$%^&*!?\"\n",
    "\n",
    "use_for = lower_case + upper_case + num + symbols\n",
    "length_pass = 11\n",
    "\n",
    "passowrd = \"\".join(random.sample(use_for, length_pass))\n",
    "\n",
    "\n",
    "print(\"The password generated is : \", passowrd)"
   ]
  },
  {
   "cell_type": "code",
   "execution_count": null,
   "id": "c24a4073",
   "metadata": {},
   "outputs": [],
   "source": []
  },
  {
   "cell_type": "code",
   "execution_count": null,
   "id": "f8f30c04",
   "metadata": {},
   "outputs": [],
   "source": []
  },
  {
   "cell_type": "code",
   "execution_count": null,
   "id": "ff369fa4",
   "metadata": {},
   "outputs": [],
   "source": []
  },
  {
   "cell_type": "code",
   "execution_count": null,
   "id": "98b75534",
   "metadata": {},
   "outputs": [],
   "source": []
  }
 ],
 "metadata": {
  "kernelspec": {
   "display_name": "Python 3 (ipykernel)",
   "language": "python",
   "name": "python3"
  },
  "language_info": {
   "codemirror_mode": {
    "name": "ipython",
    "version": 3
   },
   "file_extension": ".py",
   "mimetype": "text/x-python",
   "name": "python",
   "nbconvert_exporter": "python",
   "pygments_lexer": "ipython3",
   "version": "3.10.0"
  }
 },
 "nbformat": 4,
 "nbformat_minor": 5
}
