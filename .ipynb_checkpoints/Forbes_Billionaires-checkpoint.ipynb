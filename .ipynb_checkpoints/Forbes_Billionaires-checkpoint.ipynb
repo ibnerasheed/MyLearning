{
 "cells": [
  {
   "cell_type": "markdown",
   "metadata": {
    "ExecuteTime": {
     "end_time": "2020-11-19T05:35:59.664061Z",
     "start_time": "2020-11-19T05:35:59.311222Z"
    }
   },
   "source": [
    "### Import Numpy and Pandas Libraries"
   ]
  },
  {
   "cell_type": "code",
   "execution_count": 1,
   "metadata": {
    "ExecuteTime": {
     "end_time": "2020-11-19T05:35:59.673224Z",
     "start_time": "2020-11-19T05:35:59.666044Z"
    }
   },
   "outputs": [],
   "source": [
    "import numpy as np\n",
    "import pandas as pd"
   ]
  },
  {
   "cell_type": "markdown",
   "metadata": {},
   "source": [
    "# Q1. Read the '.csv' file into a data frame and display the first 5 rows."
   ]
  },
  {
   "cell_type": "code",
   "execution_count": 11,
   "metadata": {},
   "outputs": [],
   "source": []
  },
  {
   "cell_type": "code",
   "execution_count": 12,
   "metadata": {
    "ExecuteTime": {
     "end_time": "2020-11-19T05:35:59.823132Z",
     "start_time": "2020-11-19T05:35:59.677191Z"
    }
   },
   "outputs": [],
   "source": [
    "import numpy as np\n",
    "import pandas as pd"
   ]
  },
  {
   "cell_type": "code",
   "execution_count": 13,
   "metadata": {},
   "outputs": [
    {
     "data": {
      "text/html": [
       "<div>\n",
       "<style scoped>\n",
       "    .dataframe tbody tr th:only-of-type {\n",
       "        vertical-align: middle;\n",
       "    }\n",
       "\n",
       "    .dataframe tbody tr th {\n",
       "        vertical-align: top;\n",
       "    }\n",
       "\n",
       "    .dataframe thead th {\n",
       "        text-align: right;\n",
       "    }\n",
       "</style>\n",
       "<table border=\"1\" class=\"dataframe\">\n",
       "  <thead>\n",
       "    <tr style=\"text-align: right;\">\n",
       "      <th></th>\n",
       "      <th>Rank</th>\n",
       "      <th>Name</th>\n",
       "      <th>Age</th>\n",
       "      <th>Net Worth</th>\n",
       "      <th>Country</th>\n",
       "      <th>Source</th>\n",
       "      <th>Industries</th>\n",
       "    </tr>\n",
       "  </thead>\n",
       "  <tbody>\n",
       "    <tr>\n",
       "      <th>0</th>\n",
       "      <td>1</td>\n",
       "      <td>JEFF BEZOS</td>\n",
       "      <td>56.0</td>\n",
       "      <td>113.0</td>\n",
       "      <td>United States</td>\n",
       "      <td>Amazon</td>\n",
       "      <td>Technology</td>\n",
       "    </tr>\n",
       "    <tr>\n",
       "      <th>1</th>\n",
       "      <td>2</td>\n",
       "      <td>BILL GATES</td>\n",
       "      <td>64.0</td>\n",
       "      <td>98.0</td>\n",
       "      <td>United States</td>\n",
       "      <td>Microsoft</td>\n",
       "      <td>Technology</td>\n",
       "    </tr>\n",
       "    <tr>\n",
       "      <th>2</th>\n",
       "      <td>3</td>\n",
       "      <td>BERNARD ARNAULT &amp; FAMILY</td>\n",
       "      <td>71.0</td>\n",
       "      <td>76.0</td>\n",
       "      <td>France</td>\n",
       "      <td>LVMH</td>\n",
       "      <td>Fashion &amp; Retail</td>\n",
       "    </tr>\n",
       "    <tr>\n",
       "      <th>3</th>\n",
       "      <td>4</td>\n",
       "      <td>WARREN BUFFETT</td>\n",
       "      <td>89.0</td>\n",
       "      <td>67.5</td>\n",
       "      <td>United States</td>\n",
       "      <td>Berkshire Hathaway</td>\n",
       "      <td>Finance &amp; Investments</td>\n",
       "    </tr>\n",
       "    <tr>\n",
       "      <th>4</th>\n",
       "      <td>5</td>\n",
       "      <td>LARRY ELLISON</td>\n",
       "      <td>75.0</td>\n",
       "      <td>59.0</td>\n",
       "      <td>United States</td>\n",
       "      <td>software</td>\n",
       "      <td>Technology</td>\n",
       "    </tr>\n",
       "    <tr>\n",
       "      <th>...</th>\n",
       "      <td>...</td>\n",
       "      <td>...</td>\n",
       "      <td>...</td>\n",
       "      <td>...</td>\n",
       "      <td>...</td>\n",
       "      <td>...</td>\n",
       "      <td>...</td>\n",
       "    </tr>\n",
       "    <tr>\n",
       "      <th>2090</th>\n",
       "      <td>1990</td>\n",
       "      <td>DAVID HALL</td>\n",
       "      <td>68.0</td>\n",
       "      <td>1.0</td>\n",
       "      <td>United States</td>\n",
       "      <td>automotive technology</td>\n",
       "      <td>Automotive</td>\n",
       "    </tr>\n",
       "    <tr>\n",
       "      <th>2091</th>\n",
       "      <td>1990</td>\n",
       "      <td>DU SHA</td>\n",
       "      <td>73.0</td>\n",
       "      <td>1.0</td>\n",
       "      <td>China</td>\n",
       "      <td>hypermarkets</td>\n",
       "      <td>Diversified</td>\n",
       "    </tr>\n",
       "    <tr>\n",
       "      <th>2092</th>\n",
       "      <td>1990</td>\n",
       "      <td>WANG YANQING</td>\n",
       "      <td>73.0</td>\n",
       "      <td>1.0</td>\n",
       "      <td>China</td>\n",
       "      <td>carbon fiber products</td>\n",
       "      <td>Manufacturing</td>\n",
       "    </tr>\n",
       "    <tr>\n",
       "      <th>2093</th>\n",
       "      <td>1990</td>\n",
       "      <td>XU WANMAO</td>\n",
       "      <td>75.0</td>\n",
       "      <td>1.0</td>\n",
       "      <td>China</td>\n",
       "      <td>education</td>\n",
       "      <td>Service</td>\n",
       "    </tr>\n",
       "    <tr>\n",
       "      <th>2094</th>\n",
       "      <td>1990</td>\n",
       "      <td>WANG MIAOTONG</td>\n",
       "      <td>62.0</td>\n",
       "      <td>1.0</td>\n",
       "      <td>China</td>\n",
       "      <td>auto parts</td>\n",
       "      <td>Automotive</td>\n",
       "    </tr>\n",
       "  </tbody>\n",
       "</table>\n",
       "<p>2095 rows × 7 columns</p>\n",
       "</div>"
      ],
      "text/plain": [
       "      Rank                      Name   Age  Net Worth        Country  \\\n",
       "0        1                JEFF BEZOS  56.0      113.0  United States   \n",
       "1        2                BILL GATES  64.0       98.0  United States   \n",
       "2        3  BERNARD ARNAULT & FAMILY  71.0       76.0         France   \n",
       "3        4            WARREN BUFFETT  89.0       67.5  United States   \n",
       "4        5             LARRY ELLISON  75.0       59.0  United States   \n",
       "...    ...                       ...   ...        ...            ...   \n",
       "2090  1990                DAVID HALL  68.0        1.0  United States   \n",
       "2091  1990                    DU SHA  73.0        1.0          China   \n",
       "2092  1990              WANG YANQING  73.0        1.0          China   \n",
       "2093  1990                 XU WANMAO  75.0        1.0          China   \n",
       "2094  1990             WANG MIAOTONG  62.0        1.0          China   \n",
       "\n",
       "                     Source             Industries  \n",
       "0                    Amazon             Technology  \n",
       "1                 Microsoft             Technology  \n",
       "2                      LVMH       Fashion & Retail  \n",
       "3        Berkshire Hathaway  Finance & Investments  \n",
       "4                  software             Technology  \n",
       "...                     ...                    ...  \n",
       "2090  automotive technology             Automotive  \n",
       "2091           hypermarkets            Diversified  \n",
       "2092  carbon fiber products          Manufacturing  \n",
       "2093              education                Service  \n",
       "2094             auto parts             Automotive  \n",
       "\n",
       "[2095 rows x 7 columns]"
      ]
     },
     "execution_count": 13,
     "metadata": {},
     "output_type": "execute_result"
    }
   ],
   "source": [
    "df1=pd.read_csv(r\"C:\\Users\\ibner\\MyLearning\\Forbes_Billionaire.csv\")\n",
    "df1"
   ]
  },
  {
   "cell_type": "code",
   "execution_count": 18,
   "metadata": {},
   "outputs": [],
   "source": [
    "pd.set_option('display.max_columns', 7)\n",
    "pd.set_option('display.max_rows', 2095)"
   ]
  },
  {
   "cell_type": "code",
   "execution_count": 23,
   "metadata": {},
   "outputs": [
    {
     "data": {
      "text/html": [
       "<div>\n",
       "<style scoped>\n",
       "    .dataframe tbody tr th:only-of-type {\n",
       "        vertical-align: middle;\n",
       "    }\n",
       "\n",
       "    .dataframe tbody tr th {\n",
       "        vertical-align: top;\n",
       "    }\n",
       "\n",
       "    .dataframe thead th {\n",
       "        text-align: right;\n",
       "    }\n",
       "</style>\n",
       "<table border=\"1\" class=\"dataframe\">\n",
       "  <thead>\n",
       "    <tr style=\"text-align: right;\">\n",
       "      <th></th>\n",
       "      <th>Rank</th>\n",
       "      <th>Name</th>\n",
       "      <th>Age</th>\n",
       "      <th>Net Worth</th>\n",
       "      <th>Country</th>\n",
       "      <th>Source</th>\n",
       "      <th>Industries</th>\n",
       "    </tr>\n",
       "  </thead>\n",
       "  <tbody>\n",
       "    <tr>\n",
       "      <th>0</th>\n",
       "      <td>1</td>\n",
       "      <td>JEFF BEZOS</td>\n",
       "      <td>56.0</td>\n",
       "      <td>113.0</td>\n",
       "      <td>United States</td>\n",
       "      <td>Amazon</td>\n",
       "      <td>Technology</td>\n",
       "    </tr>\n",
       "    <tr>\n",
       "      <th>1</th>\n",
       "      <td>2</td>\n",
       "      <td>BILL GATES</td>\n",
       "      <td>64.0</td>\n",
       "      <td>98.0</td>\n",
       "      <td>United States</td>\n",
       "      <td>Microsoft</td>\n",
       "      <td>Technology</td>\n",
       "    </tr>\n",
       "    <tr>\n",
       "      <th>2</th>\n",
       "      <td>3</td>\n",
       "      <td>BERNARD ARNAULT &amp; FAMILY</td>\n",
       "      <td>71.0</td>\n",
       "      <td>76.0</td>\n",
       "      <td>France</td>\n",
       "      <td>LVMH</td>\n",
       "      <td>Fashion &amp; Retail</td>\n",
       "    </tr>\n",
       "    <tr>\n",
       "      <th>3</th>\n",
       "      <td>4</td>\n",
       "      <td>WARREN BUFFETT</td>\n",
       "      <td>89.0</td>\n",
       "      <td>67.5</td>\n",
       "      <td>United States</td>\n",
       "      <td>Berkshire Hathaway</td>\n",
       "      <td>Finance &amp; Investments</td>\n",
       "    </tr>\n",
       "    <tr>\n",
       "      <th>4</th>\n",
       "      <td>5</td>\n",
       "      <td>LARRY ELLISON</td>\n",
       "      <td>75.0</td>\n",
       "      <td>59.0</td>\n",
       "      <td>United States</td>\n",
       "      <td>software</td>\n",
       "      <td>Technology</td>\n",
       "    </tr>\n",
       "  </tbody>\n",
       "</table>\n",
       "</div>"
      ],
      "text/plain": [
       "   Rank                      Name   Age  Net Worth        Country  \\\n",
       "0     1                JEFF BEZOS  56.0      113.0  United States   \n",
       "1     2                BILL GATES  64.0       98.0  United States   \n",
       "2     3  BERNARD ARNAULT & FAMILY  71.0       76.0         France   \n",
       "3     4            WARREN BUFFETT  89.0       67.5  United States   \n",
       "4     5             LARRY ELLISON  75.0       59.0  United States   \n",
       "\n",
       "               Source             Industries  \n",
       "0              Amazon             Technology  \n",
       "1           Microsoft             Technology  \n",
       "2                LVMH       Fashion & Retail  \n",
       "3  Berkshire Hathaway  Finance & Investments  \n",
       "4            software             Technology  "
      ]
     },
     "execution_count": 23,
     "metadata": {},
     "output_type": "execute_result"
    }
   ],
   "source": [
    "df1.head()"
   ]
  },
  {
   "cell_type": "code",
   "execution_count": 20,
   "metadata": {},
   "outputs": [
    {
     "data": {
      "text/plain": [
       "Index(['Rank', 'Name', 'Age', 'Net Worth', 'Country', 'Source', 'Industries'], dtype='object')"
      ]
     },
     "execution_count": 20,
     "metadata": {},
     "output_type": "execute_result"
    }
   ],
   "source": [
    "df1.columns #to check column names"
   ]
  },
  {
   "cell_type": "code",
   "execution_count": 21,
   "metadata": {},
   "outputs": [
    {
     "data": {
      "text/plain": [
       "Finance & Investments    298\n",
       "Technology               241\n",
       "Fashion & Retail         209\n",
       "Manufacturing            198\n",
       "Real Estate              196\n",
       "Diversified              169\n",
       "Food & Beverage          168\n",
       "Healthcare               149\n",
       "Name: Industries, dtype: int64"
      ]
     },
     "execution_count": 21,
     "metadata": {},
     "output_type": "execute_result"
    }
   ],
   "source": [
    "df1['Industries'].value_counts(normalize=False).head(8)"
   ]
  },
  {
   "cell_type": "code",
   "execution_count": 22,
   "metadata": {},
   "outputs": [
    {
     "data": {
      "text/plain": [
       "array(['Technology', 'Fashion & Retail', 'Finance & Investments',\n",
       "       'Telecom', 'Media & Entertainment', 'Diversified', 'Energy',\n",
       "       'Real Estate', 'Gambling & Casinos', 'Food & Beverage',\n",
       "       'Automotive', 'Manufacturing', 'Metals & Mining', 'Service',\n",
       "       'Healthcare', 'Logistics', 'Construction & Engineering', 'Sports'],\n",
       "      dtype=object)"
      ]
     },
     "execution_count": 22,
     "metadata": {},
     "output_type": "execute_result"
    }
   ],
   "source": [
    "df1[\"Industries\"].unique()"
   ]
  },
  {
   "cell_type": "markdown",
   "metadata": {},
   "source": [
    "# Q2. Name the top 8 industries with maximum count of billionaires"
   ]
  },
  {
   "cell_type": "code",
   "execution_count": 29,
   "metadata": {},
   "outputs": [
    {
     "ename": "AttributeError",
     "evalue": "'DataFrameGroupBy' object has no attribute 'group'",
     "output_type": "error",
     "traceback": [
      "\u001b[1;31m---------------------------------------------------------------------------\u001b[0m",
      "\u001b[1;31mAttributeError\u001b[0m                            Traceback (most recent call last)",
      "\u001b[1;32m~\\AppData\\Local\\Temp/ipykernel_23760/1936835721.py\u001b[0m in \u001b[0;36m<module>\u001b[1;34m\u001b[0m\n\u001b[1;32m----> 1\u001b[1;33m \u001b[0mdf1\u001b[0m\u001b[1;33m.\u001b[0m\u001b[0mgroupby\u001b[0m\u001b[1;33m(\u001b[0m\u001b[1;34m'Industries'\u001b[0m\u001b[1;33m)\u001b[0m\u001b[1;33m.\u001b[0m\u001b[0mgroup\u001b[0m\u001b[1;33m\u001b[0m\u001b[1;33m\u001b[0m\u001b[0m\n\u001b[0m",
      "\u001b[1;32m~\\AppData\\Local\\Programs\\Python\\Python310\\lib\\site-packages\\pandas\\core\\groupby\\groupby.py\u001b[0m in \u001b[0;36m__getattr__\u001b[1;34m(self, attr)\u001b[0m\n\u001b[0;32m    909\u001b[0m             \u001b[1;32mreturn\u001b[0m \u001b[0mself\u001b[0m\u001b[1;33m[\u001b[0m\u001b[0mattr\u001b[0m\u001b[1;33m]\u001b[0m\u001b[1;33m\u001b[0m\u001b[1;33m\u001b[0m\u001b[0m\n\u001b[0;32m    910\u001b[0m \u001b[1;33m\u001b[0m\u001b[0m\n\u001b[1;32m--> 911\u001b[1;33m         raise AttributeError(\n\u001b[0m\u001b[0;32m    912\u001b[0m             \u001b[1;34mf\"'{type(self).__name__}' object has no attribute '{attr}'\"\u001b[0m\u001b[1;33m\u001b[0m\u001b[1;33m\u001b[0m\u001b[0m\n\u001b[0;32m    913\u001b[0m         )\n",
      "\u001b[1;31mAttributeError\u001b[0m: 'DataFrameGroupBy' object has no attribute 'group'"
     ]
    }
   ],
   "source": [
    "df1.groupby('Industries').group"
   ]
  },
  {
   "cell_type": "code",
   "execution_count": 6,
   "metadata": {},
   "outputs": [],
   "source": [
    "df_top8\n",
    "newcolumn =  [\"A\", \"B\", \"C\", \"D\", \"E\"]"
   ]
  },
  {
   "cell_type": "markdown",
   "metadata": {},
   "source": [
    "# Q3. State the headcount of billionaires from these top 8 industries"
   ]
  },
  {
   "cell_type": "code",
   "execution_count": 7,
   "metadata": {
    "ExecuteTime": {
     "end_time": "2020-11-19T05:36:00.290901Z",
     "start_time": "2020-11-19T05:36:00.170169Z"
    }
   },
   "outputs": [
    {
     "data": {
      "text/plain": [
       "Industries    Finance & InvestmentsTechnologyFashion & Retai...\n",
       "Name                                                       1628\n",
       "dtype: object"
      ]
     },
     "execution_count": 7,
     "metadata": {},
     "output_type": "execute_result"
    }
   ],
   "source": [
    "df_top8.sum()"
   ]
  },
  {
   "cell_type": "markdown",
   "metadata": {},
   "source": [
    "# Q4. Compare the mean of net worth of billionaires from these top 8 industries."
   ]
  },
  {
   "cell_type": "code",
   "execution_count": 11,
   "metadata": {
    "scrolled": true
   },
   "outputs": [
    {
     "data": {
      "text/html": [
       "<div>\n",
       "<style scoped>\n",
       "    .dataframe tbody tr th:only-of-type {\n",
       "        vertical-align: middle;\n",
       "    }\n",
       "\n",
       "    .dataframe tbody tr th {\n",
       "        vertical-align: top;\n",
       "    }\n",
       "\n",
       "    .dataframe thead th {\n",
       "        text-align: right;\n",
       "    }\n",
       "</style>\n",
       "<table border=\"1\" class=\"dataframe\">\n",
       "  <thead>\n",
       "    <tr style=\"text-align: right;\">\n",
       "      <th></th>\n",
       "      <th>Rank</th>\n",
       "      <th>Name</th>\n",
       "      <th>Age</th>\n",
       "      <th>Net Worth</th>\n",
       "      <th>Country</th>\n",
       "      <th>Source</th>\n",
       "      <th>Industries</th>\n",
       "    </tr>\n",
       "  </thead>\n",
       "  <tbody>\n",
       "  </tbody>\n",
       "</table>\n",
       "</div>"
      ],
      "text/plain": [
       "Empty DataFrame\n",
       "Columns: [Rank, Name, Age, Net Worth, Country, Source, Industries]\n",
       "Index: []"
      ]
     },
     "execution_count": 11,
     "metadata": {},
     "output_type": "execute_result"
    }
   ],
   "source": [
    "new_df_top8 = pd.DataFrame(columns=df1.columns)\n",
    "new_df_top8"
   ]
  },
  {
   "cell_type": "code",
   "execution_count": 13,
   "metadata": {},
   "outputs": [],
   "source": [
    "for i in df_top8['Industries']:\n",
    "    a = df1[df1['Industries']==i]\n",
    "    new_df_top8 = new_df_top8.append(a)"
   ]
  },
  {
   "cell_type": "code",
   "execution_count": 14,
   "metadata": {
    "scrolled": true
   },
   "outputs": [
    {
     "data": {
      "text/html": [
       "<div>\n",
       "<style scoped>\n",
       "    .dataframe tbody tr th:only-of-type {\n",
       "        vertical-align: middle;\n",
       "    }\n",
       "\n",
       "    .dataframe tbody tr th {\n",
       "        vertical-align: top;\n",
       "    }\n",
       "\n",
       "    .dataframe thead th {\n",
       "        text-align: right;\n",
       "    }\n",
       "</style>\n",
       "<table border=\"1\" class=\"dataframe\">\n",
       "  <thead>\n",
       "    <tr style=\"text-align: right;\">\n",
       "      <th></th>\n",
       "      <th>Rank</th>\n",
       "      <th>Name</th>\n",
       "      <th>Age</th>\n",
       "      <th>Net Worth</th>\n",
       "      <th>Country</th>\n",
       "      <th>Source</th>\n",
       "      <th>Industries</th>\n",
       "    </tr>\n",
       "  </thead>\n",
       "  <tbody>\n",
       "    <tr>\n",
       "      <th>3</th>\n",
       "      <td>4</td>\n",
       "      <td>WARREN BUFFETT</td>\n",
       "      <td>89.0</td>\n",
       "      <td>67.5</td>\n",
       "      <td>United States</td>\n",
       "      <td>Berkshire Hathaway</td>\n",
       "      <td>Finance &amp; Investments</td>\n",
       "    </tr>\n",
       "    <tr>\n",
       "      <th>36</th>\n",
       "      <td>36</td>\n",
       "      <td>JIM SIMONS</td>\n",
       "      <td>81.0</td>\n",
       "      <td>21.6</td>\n",
       "      <td>United States</td>\n",
       "      <td>hedge funds</td>\n",
       "      <td>Finance &amp; Investments</td>\n",
       "    </tr>\n",
       "    <tr>\n",
       "      <th>38</th>\n",
       "      <td>39</td>\n",
       "      <td>JOSEPH SAFRA</td>\n",
       "      <td>81.0</td>\n",
       "      <td>19.9</td>\n",
       "      <td>Brazil</td>\n",
       "      <td>banking</td>\n",
       "      <td>Finance &amp; Investments</td>\n",
       "    </tr>\n",
       "    <tr>\n",
       "      <th>45</th>\n",
       "      <td>46</td>\n",
       "      <td>RAY DALIO</td>\n",
       "      <td>70.0</td>\n",
       "      <td>18.0</td>\n",
       "      <td>United States</td>\n",
       "      <td>hedge funds</td>\n",
       "      <td>Finance &amp; Investments</td>\n",
       "    </tr>\n",
       "    <tr>\n",
       "      <th>63</th>\n",
       "      <td>64</td>\n",
       "      <td>STEPHEN SCHWARZMAN</td>\n",
       "      <td>73.0</td>\n",
       "      <td>15.4</td>\n",
       "      <td>United States</td>\n",
       "      <td>investments</td>\n",
       "      <td>Finance &amp; Investments</td>\n",
       "    </tr>\n",
       "    <tr>\n",
       "      <th>...</th>\n",
       "      <td>...</td>\n",
       "      <td>...</td>\n",
       "      <td>...</td>\n",
       "      <td>...</td>\n",
       "      <td>...</td>\n",
       "      <td>...</td>\n",
       "      <td>...</td>\n",
       "    </tr>\n",
       "    <tr>\n",
       "      <th>2016</th>\n",
       "      <td>1990</td>\n",
       "      <td>HENRI BEAUFOUR</td>\n",
       "      <td>54.0</td>\n",
       "      <td>1.0</td>\n",
       "      <td>France</td>\n",
       "      <td>pharmaceuticals</td>\n",
       "      <td>Healthcare</td>\n",
       "    </tr>\n",
       "    <tr>\n",
       "      <th>2020</th>\n",
       "      <td>1990</td>\n",
       "      <td>ANNE BEAUFOUR</td>\n",
       "      <td>56.0</td>\n",
       "      <td>1.0</td>\n",
       "      <td>France</td>\n",
       "      <td>pharmaceuticals</td>\n",
       "      <td>Healthcare</td>\n",
       "    </tr>\n",
       "    <tr>\n",
       "      <th>2025</th>\n",
       "      <td>1990</td>\n",
       "      <td>VADIM YAKUNIN</td>\n",
       "      <td>57.0</td>\n",
       "      <td>1.0</td>\n",
       "      <td>Russia</td>\n",
       "      <td>pharmacy</td>\n",
       "      <td>Healthcare</td>\n",
       "    </tr>\n",
       "    <tr>\n",
       "      <th>2067</th>\n",
       "      <td>1990</td>\n",
       "      <td>FAN MINHUA</td>\n",
       "      <td>58.0</td>\n",
       "      <td>1.0</td>\n",
       "      <td>China</td>\n",
       "      <td>pharmaceuticals</td>\n",
       "      <td>Healthcare</td>\n",
       "    </tr>\n",
       "    <tr>\n",
       "      <th>2086</th>\n",
       "      <td>1990</td>\n",
       "      <td>LI XIANYU &amp; FAMILY</td>\n",
       "      <td>66.0</td>\n",
       "      <td>1.0</td>\n",
       "      <td>China</td>\n",
       "      <td>pharmaceuticals</td>\n",
       "      <td>Healthcare</td>\n",
       "    </tr>\n",
       "  </tbody>\n",
       "</table>\n",
       "<p>1628 rows × 7 columns</p>\n",
       "</div>"
      ],
      "text/plain": [
       "      Rank                Name   Age  Net Worth        Country  \\\n",
       "3        4      WARREN BUFFETT  89.0       67.5  United States   \n",
       "36      36          JIM SIMONS  81.0       21.6  United States   \n",
       "38      39        JOSEPH SAFRA  81.0       19.9         Brazil   \n",
       "45      46           RAY DALIO  70.0       18.0  United States   \n",
       "63      64  STEPHEN SCHWARZMAN  73.0       15.4  United States   \n",
       "...    ...                 ...   ...        ...            ...   \n",
       "2016  1990      HENRI BEAUFOUR  54.0        1.0         France   \n",
       "2020  1990       ANNE BEAUFOUR  56.0        1.0         France   \n",
       "2025  1990       VADIM YAKUNIN  57.0        1.0         Russia   \n",
       "2067  1990          FAN MINHUA  58.0        1.0          China   \n",
       "2086  1990  LI XIANYU & FAMILY  66.0        1.0          China   \n",
       "\n",
       "                  Source             Industries  \n",
       "3     Berkshire Hathaway  Finance & Investments  \n",
       "36           hedge funds  Finance & Investments  \n",
       "38               banking  Finance & Investments  \n",
       "45           hedge funds  Finance & Investments  \n",
       "63           investments  Finance & Investments  \n",
       "...                  ...                    ...  \n",
       "2016     pharmaceuticals             Healthcare  \n",
       "2020     pharmaceuticals             Healthcare  \n",
       "2025            pharmacy             Healthcare  \n",
       "2067     pharmaceuticals             Healthcare  \n",
       "2086     pharmaceuticals             Healthcare  \n",
       "\n",
       "[1628 rows x 7 columns]"
      ]
     },
     "execution_count": 14,
     "metadata": {},
     "output_type": "execute_result"
    }
   ],
   "source": [
    "new_df_top8"
   ]
  },
  {
   "cell_type": "code",
   "execution_count": 16,
   "metadata": {},
   "outputs": [
    {
     "data": {
      "text/plain": [
       "array(['Finance & Investments', 'Technology', 'Fashion & Retail',\n",
       "       'Manufacturing', 'Real Estate', 'Diversified', 'Food & Beverage',\n",
       "       'Healthcare'], dtype=object)"
      ]
     },
     "execution_count": 16,
     "metadata": {},
     "output_type": "execute_result"
    }
   ],
   "source": [
    "new_df_top8['Industries'].unique()"
   ]
  },
  {
   "cell_type": "code",
   "execution_count": 21,
   "metadata": {
    "scrolled": true
   },
   "outputs": [
    {
     "name": "stdout",
     "output_type": "stream",
     "text": [
      "The average net worth of the billionaires of the industry Finance & Investments is 3.4302013422818836 billions.\n",
      "The average net worth of the billionaires of the industry Technology is 5.634439834024899 billions.\n",
      "The average net worth of the billionaires of the industry Fashion & Retail is 5.372727272727272 billions.\n",
      "The average net worth of the billionaires of the industry Manufacturing is 2.730303030303033 billions.\n",
      "The average net worth of the billionaires of the industry Real Estate is 3.2775510204081653 billions.\n",
      "The average net worth of the billionaires of the industry Diversified is 3.2934911242603553 billions.\n",
      "The average net worth of the billionaires of the industry Food & Beverage is 3.7083333333333335 billions.\n",
      "The average net worth of the billionaires of the industry Healthcare is 2.857046979865774 billions.\n"
     ]
    }
   ],
   "source": [
    "for i in new_df_top8['Industries'].unique():\n",
    "    print('The average net worth of the billionaires of the industry',i,'is',new_df_top8[new_df_top8['Industries']==i]['Net Worth'].mean(),'billions.')"
   ]
  },
  {
   "cell_type": "markdown",
   "metadata": {},
   "source": [
    "# Q5. Compare the mean age of billionaires from these top 8 industries."
   ]
  },
  {
   "cell_type": "code",
   "execution_count": 31,
   "metadata": {
    "ExecuteTime": {
     "end_time": "2020-11-19T05:36:01.449894Z",
     "start_time": "2020-11-19T05:36:01.326650Z"
    },
    "scrolled": true
   },
   "outputs": [
    {
     "name": "stdout",
     "output_type": "stream",
     "text": [
      "The average age of the billionaires of the industry Finance & Investments is 65.8108108108108 years.\n",
      "The average age of the billionaires of the industry Technology is 55.37552742616034 years.\n",
      "The average age of the billionaires of the industry Fashion & Retail is 66.89320388349515 years.\n",
      "The average age of the billionaires of the industry Manufacturing is 64.139896373057 years.\n",
      "The average age of the billionaires of the industry Real Estate is 65.89528795811518 years.\n",
      "The average age of the billionaires of the industry Diversified is 66.88957055214723 years.\n",
      "The average age of the billionaires of the industry Food & Beverage is 64.8625 years.\n",
      "The average age of the billionaires of the industry Healthcare is 63.08843537414966 years.\n"
     ]
    }
   ],
   "source": [
    "for i in new_df_top8['Industries'].unique():\n",
    "    print('The average age of the billionaires of the industry',i,'is',new_df_top8[new_df_top8['Industries']==i]['Age'].mean(),'years.')"
   ]
  },
  {
   "cell_type": "code",
   "execution_count": 32,
   "metadata": {},
   "outputs": [
    {
     "name": "stdout",
     "output_type": "stream",
     "text": [
      "The mean age of the billionaires from these industries is: 63.97 years.\n"
     ]
    }
   ],
   "source": [
    "print('The mean age of the billionaires from these industries is:',round(new_df_top8['Age'].mean(),2),'years.')"
   ]
  },
  {
   "cell_type": "markdown",
   "metadata": {},
   "source": [
    "# Q6. Name the Richest billionaire in the Automotive sector"
   ]
  },
  {
   "cell_type": "code",
   "execution_count": 34,
   "metadata": {
    "ExecuteTime": {
     "end_time": "2020-11-19T05:36:01.610803Z",
     "start_time": "2020-11-19T05:36:01.451888Z"
    }
   },
   "outputs": [
    {
     "data": {
      "text/plain": [
       "array(['Technology', 'Fashion & Retail', 'Finance & Investments',\n",
       "       'Telecom', 'Media & Entertainment', 'Diversified', 'Energy',\n",
       "       'Real Estate', 'Gambling & Casinos', 'Food & Beverage',\n",
       "       'Automotive', 'Manufacturing', 'Metals & Mining', 'Service',\n",
       "       'Healthcare', 'Logistics', 'Construction & Engineering', 'Sports'],\n",
       "      dtype=object)"
      ]
     },
     "execution_count": 34,
     "metadata": {},
     "output_type": "execute_result"
    }
   ],
   "source": [
    "df1['Industries'].unique()"
   ]
  },
  {
   "cell_type": "code",
   "execution_count": 35,
   "metadata": {
    "ExecuteTime": {
     "end_time": "2020-11-19T05:36:01.750945Z",
     "start_time": "2020-11-19T05:36:01.612764Z"
    }
   },
   "outputs": [
    {
     "data": {
      "text/html": [
       "<div>\n",
       "<style scoped>\n",
       "    .dataframe tbody tr th:only-of-type {\n",
       "        vertical-align: middle;\n",
       "    }\n",
       "\n",
       "    .dataframe tbody tr th {\n",
       "        vertical-align: top;\n",
       "    }\n",
       "\n",
       "    .dataframe thead th {\n",
       "        text-align: right;\n",
       "    }\n",
       "</style>\n",
       "<table border=\"1\" class=\"dataframe\">\n",
       "  <thead>\n",
       "    <tr style=\"text-align: right;\">\n",
       "      <th></th>\n",
       "      <th>Rank</th>\n",
       "      <th>Name</th>\n",
       "      <th>Age</th>\n",
       "      <th>Net Worth</th>\n",
       "      <th>Country</th>\n",
       "      <th>Source</th>\n",
       "      <th>Industries</th>\n",
       "    </tr>\n",
       "  </thead>\n",
       "  <tbody>\n",
       "    <tr>\n",
       "      <th>30</th>\n",
       "      <td>31</td>\n",
       "      <td>ELON MUSK</td>\n",
       "      <td>48.0</td>\n",
       "      <td>24.6</td>\n",
       "      <td>United States</td>\n",
       "      <td>Tesla, SpaceX</td>\n",
       "      <td>Automotive</td>\n",
       "    </tr>\n",
       "  </tbody>\n",
       "</table>\n",
       "</div>"
      ],
      "text/plain": [
       "    Rank       Name   Age  Net Worth        Country         Source  Industries\n",
       "30    31  ELON MUSK  48.0       24.6  United States  Tesla, SpaceX  Automotive"
      ]
     },
     "execution_count": 35,
     "metadata": {},
     "output_type": "execute_result"
    }
   ],
   "source": [
    "df1[df1['Industries']=='Automotive'].sort_values(by='Net Worth',ascending=False).head(1)"
   ]
  },
  {
   "cell_type": "markdown",
   "metadata": {},
   "source": [
    "# Q7. Name top 5 countries with maximum number of billionaires."
   ]
  },
  {
   "cell_type": "code",
   "execution_count": 36,
   "metadata": {
    "ExecuteTime": {
     "end_time": "2020-11-19T05:36:01.990680Z",
     "start_time": "2020-11-19T05:36:01.863745Z"
    }
   },
   "outputs": [
    {
     "data": {
      "text/plain": [
       "array(['United States', 'France', 'Spain', 'Mexico', 'China', 'India',\n",
       "       'Germany', 'Canada', 'Hong Kong', 'Italy', 'Brazil', 'Russia',\n",
       "       'Japan', 'Austria', 'Czechia', 'South Korea', 'Indonesia',\n",
       "       'Sweden', 'Thailand', 'Australia', 'United Kingdom', 'Netherlands',\n",
       "       'Singapore', 'Ireland', 'Chile', 'New Zealand', 'Cyprus',\n",
       "       'Malaysia', 'Colombia', 'Nigeria', 'Denmark', 'Switzerland',\n",
       "       'Belgium', 'Israel', 'South Africa', 'Vietnam', 'Philippines',\n",
       "       'Taiwan', 'Egypt', 'Norway', 'Georgia', 'Finland', 'Turkey',\n",
       "       'Algeria', 'Peru', 'Portugal', 'Poland', 'Kazakhstan',\n",
       "       'United Arab Emirates', 'Venezuela', 'Liechtenstein', 'Greece',\n",
       "       'Argentina', 'Eswatini (Swaziland)', 'Ukraine', 'Lebanon',\n",
       "       'Guernsey', 'Oman', 'Iceland', 'Macao', 'Monaco', 'Tanzania',\n",
       "       'Slovakia', 'Angola', 'Nepal', 'Romania', 'Kuwait', 'Hungary',\n",
       "       'Qatar', 'St. Kitts and Nevis', 'Zimbabwe', 'Morocco'],\n",
       "      dtype=object)"
      ]
     },
     "execution_count": 36,
     "metadata": {},
     "output_type": "execute_result"
    }
   ],
   "source": [
    "df1['Country'].unique()"
   ]
  },
  {
   "cell_type": "code",
   "execution_count": 38,
   "metadata": {
    "ExecuteTime": {
     "end_time": "2020-11-19T05:36:02.108890Z",
     "start_time": "2020-11-19T05:36:01.991677Z"
    }
   },
   "outputs": [
    {
     "data": {
      "text/plain": [
       "United States    614\n",
       "China            387\n",
       "Germany          107\n",
       "India            102\n",
       "Russia            99\n",
       "Name: Country, dtype: int64"
      ]
     },
     "execution_count": 38,
     "metadata": {},
     "output_type": "execute_result"
    }
   ],
   "source": [
    "df1['Country'].value_counts().head(5)"
   ]
  },
  {
   "cell_type": "markdown",
   "metadata": {},
   "source": [
    "# Q8. Which amongst these top 5 countries have the lowest mean age of billionaires ?"
   ]
  },
  {
   "cell_type": "code",
   "execution_count": null,
   "metadata": {
    "ExecuteTime": {
     "end_time": "2020-11-19T05:36:02.524675Z",
     "start_time": "2020-11-19T05:36:02.396587Z"
    }
   },
   "outputs": [],
   "source": []
  },
  {
   "cell_type": "code",
   "execution_count": null,
   "metadata": {
    "ExecuteTime": {
     "end_time": "2020-11-19T05:36:03.363912Z",
     "start_time": "2020-11-19T05:36:02.525675Z"
    }
   },
   "outputs": [],
   "source": []
  },
  {
   "cell_type": "markdown",
   "metadata": {},
   "source": [
    "# Q9. Name the richest Chinese billionaire and his net worth"
   ]
  },
  {
   "cell_type": "code",
   "execution_count": null,
   "metadata": {
    "ExecuteTime": {
     "end_time": "2020-11-19T05:36:03.497416Z",
     "start_time": "2020-11-19T05:36:03.366939Z"
    }
   },
   "outputs": [],
   "source": []
  },
  {
   "cell_type": "markdown",
   "metadata": {},
   "source": [
    "# Q10. Name top 5 Industries with maximum number of Indian billionaires."
   ]
  },
  {
   "cell_type": "code",
   "execution_count": null,
   "metadata": {
    "ExecuteTime": {
     "end_time": "2020-11-19T05:36:03.620536Z",
     "start_time": "2020-11-19T05:36:03.499374Z"
    }
   },
   "outputs": [],
   "source": []
  },
  {
   "cell_type": "code",
   "execution_count": null,
   "metadata": {
    "ExecuteTime": {
     "end_time": "2020-11-19T05:36:03.728989Z",
     "start_time": "2020-11-19T05:36:03.622495Z"
    }
   },
   "outputs": [],
   "source": []
  },
  {
   "cell_type": "markdown",
   "metadata": {},
   "source": [
    "# Q11. Name all the Indian billionaires in global top 100 list."
   ]
  },
  {
   "cell_type": "code",
   "execution_count": null,
   "metadata": {
    "ExecuteTime": {
     "end_time": "2020-11-19T05:36:03.860872Z",
     "start_time": "2020-11-19T05:36:03.729988Z"
    }
   },
   "outputs": [],
   "source": []
  },
  {
   "cell_type": "code",
   "execution_count": null,
   "metadata": {
    "ExecuteTime": {
     "end_time": "2020-11-19T05:36:04.106315Z",
     "start_time": "2020-11-19T05:36:03.862832Z"
    }
   },
   "outputs": [],
   "source": []
  },
  {
   "cell_type": "markdown",
   "metadata": {},
   "source": [
    "# Q12. Name all the billionaires in India who are younger than 50 years. Also state their mean net worth"
   ]
  },
  {
   "cell_type": "code",
   "execution_count": null,
   "metadata": {
    "ExecuteTime": {
     "end_time": "2020-11-19T05:36:04.247094Z",
     "start_time": "2020-11-19T05:36:04.107281Z"
    }
   },
   "outputs": [],
   "source": []
  },
  {
   "cell_type": "code",
   "execution_count": null,
   "metadata": {
    "ExecuteTime": {
     "end_time": "2020-11-19T05:36:04.384187Z",
     "start_time": "2020-11-19T05:36:04.248053Z"
    }
   },
   "outputs": [],
   "source": []
  },
  {
   "cell_type": "markdown",
   "metadata": {},
   "source": [
    "# Q13. Name the Indian billionaires from real estate sector who are richer than 'DONALD TRUMP'."
   ]
  },
  {
   "cell_type": "code",
   "execution_count": null,
   "metadata": {
    "ExecuteTime": {
     "end_time": "2020-11-19T05:36:04.609083Z",
     "start_time": "2020-11-19T05:36:04.506952Z"
    }
   },
   "outputs": [],
   "source": []
  },
  {
   "cell_type": "code",
   "execution_count": null,
   "metadata": {
    "ExecuteTime": {
     "end_time": "2020-11-19T05:36:05.018276Z",
     "start_time": "2020-11-19T05:36:04.882432Z"
    }
   },
   "outputs": [],
   "source": []
  },
  {
   "cell_type": "markdown",
   "metadata": {},
   "source": [
    "# Q14. What is the total cumulative net worth of all the billionaires?"
   ]
  },
  {
   "cell_type": "code",
   "execution_count": null,
   "metadata": {
    "ExecuteTime": {
     "end_time": "2020-11-19T05:36:05.126279Z",
     "start_time": "2020-11-19T05:36:05.020262Z"
    }
   },
   "outputs": [],
   "source": []
  },
  {
   "cell_type": "code",
   "execution_count": null,
   "metadata": {
    "ExecuteTime": {
     "end_time": "2020-11-19T05:36:05.238353Z",
     "start_time": "2020-11-19T05:36:05.127244Z"
    }
   },
   "outputs": [],
   "source": []
  },
  {
   "cell_type": "markdown",
   "metadata": {},
   "source": [
    "# END"
   ]
  }
 ],
 "metadata": {
  "kernelspec": {
   "display_name": "Python 3 (ipykernel)",
   "language": "python",
   "name": "python3"
  },
  "language_info": {
   "codemirror_mode": {
    "name": "ipython",
    "version": 3
   },
   "file_extension": ".py",
   "mimetype": "text/x-python",
   "name": "python",
   "nbconvert_exporter": "python",
   "pygments_lexer": "ipython3",
   "version": "3.10.0"
  },
  "toc": {
   "base_numbering": 1,
   "nav_menu": {},
   "number_sections": true,
   "sideBar": true,
   "skip_h1_title": false,
   "title_cell": "Table of Contents",
   "title_sidebar": "Contents",
   "toc_cell": false,
   "toc_position": {},
   "toc_section_display": true,
   "toc_window_display": true
  },
  "varInspector": {
   "cols": {
    "lenName": 16,
    "lenType": 16,
    "lenVar": 40
   },
   "kernels_config": {
    "python": {
     "delete_cmd_postfix": "",
     "delete_cmd_prefix": "del ",
     "library": "var_list.py",
     "varRefreshCmd": "print(var_dic_list())"
    },
    "r": {
     "delete_cmd_postfix": ") ",
     "delete_cmd_prefix": "rm(",
     "library": "var_list.r",
     "varRefreshCmd": "cat(var_dic_list()) "
    }
   },
   "types_to_exclude": [
    "module",
    "function",
    "builtin_function_or_method",
    "instance",
    "_Feature"
   ],
   "window_display": false
  }
 },
 "nbformat": 4,
 "nbformat_minor": 4
}
